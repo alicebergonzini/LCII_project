{
 "cells": [
  {
   "attachments": {},
   "cell_type": "markdown",
   "metadata": {},
   "source": [
    "# 1. CLASSIFICATORE SVM CON INPUT DI PROFILING UD: \n",
    "\n",
    "classificatore basato su SVM lineari che prende in input una rappresentazione del testo basata solo su informazioni linguistiche non lessicali estratte utilizzando il sistema Profiling-UD\n",
    "\n",
    "***"
   ]
  },
  {
   "attachments": {},
   "cell_type": "markdown",
   "metadata": {},
   "source": [
    "### Pre-processing per Profiling UD\n",
    "\n",
    "Per ottenere le features da Profiling UD è necessario fare del pre-processing sul dataset per fare in modo da avere per ogni sample del dataset un file txt."
   ]
  },
  {
   "cell_type": "code",
   "execution_count": 1,
   "metadata": {},
   "outputs": [],
   "source": [
    "import pandas as pd"
   ]
  },
  {
   "cell_type": "code",
   "execution_count": 2,
   "metadata": {},
   "outputs": [],
   "source": [
    "#vediamo un po' cos'abbiamo come training e test set\n",
    "training_set = pd.read_csv(\"../data/training_ironita2018_anon_REV_.csv\", sep=\";\")\n",
    "test_set = pd.read_csv(\"../data/test_gold_ironita2018_anon_REV_.csv\", sep=\";\")"
   ]
  },
  {
   "cell_type": "code",
   "execution_count": 3,
   "metadata": {},
   "outputs": [
    {
     "data": {
      "text/html": [
       "<div>\n",
       "<style scoped>\n",
       "    .dataframe tbody tr th:only-of-type {\n",
       "        vertical-align: middle;\n",
       "    }\n",
       "\n",
       "    .dataframe tbody tr th {\n",
       "        vertical-align: top;\n",
       "    }\n",
       "\n",
       "    .dataframe thead th {\n",
       "        text-align: right;\n",
       "    }\n",
       "</style>\n",
       "<table border=\"1\" class=\"dataframe\">\n",
       "  <thead>\n",
       "    <tr style=\"text-align: right;\">\n",
       "      <th></th>\n",
       "      <th>id</th>\n",
       "      <th>text</th>\n",
       "      <th>irony</th>\n",
       "      <th>sarcasm</th>\n",
       "      <th>topic</th>\n",
       "    </tr>\n",
       "  </thead>\n",
       "  <tbody>\n",
       "    <tr>\n",
       "      <th>0</th>\n",
       "      <td>811156813181841408</td>\n",
       "      <td>Zurigo, trovato morto il presunto autore della...</td>\n",
       "      <td>0</td>\n",
       "      <td>0</td>\n",
       "      <td>HSC</td>\n",
       "    </tr>\n",
       "    <tr>\n",
       "      <th>1</th>\n",
       "      <td>811183087350595584</td>\n",
       "      <td>Zurigo, trovato morto il presunto autore della...</td>\n",
       "      <td>0</td>\n",
       "      <td>0</td>\n",
       "      <td>HSC</td>\n",
       "    </tr>\n",
       "    <tr>\n",
       "      <th>2</th>\n",
       "      <td>826380632376881152</td>\n",
       "      <td>Zingari..i soliti \"MERDOSI\"..#cacciamolivia Ro...</td>\n",
       "      <td>0</td>\n",
       "      <td>0</td>\n",
       "      <td>HSC</td>\n",
       "    </tr>\n",
       "    <tr>\n",
       "      <th>3</th>\n",
       "      <td>844871171350802432</td>\n",
       "      <td>Zingari di merda,tutti al muro...bastardi Spar...</td>\n",
       "      <td>0</td>\n",
       "      <td>0</td>\n",
       "      <td>HSC</td>\n",
       "    </tr>\n",
       "    <tr>\n",
       "      <th>4</th>\n",
       "      <td>509712824361570304</td>\n",
       "      <td>zero notizie decreto #tfaordinario II ciclo ze...</td>\n",
       "      <td>1</td>\n",
       "      <td>0</td>\n",
       "      <td>TW-BS</td>\n",
       "    </tr>\n",
       "  </tbody>\n",
       "</table>\n",
       "</div>"
      ],
      "text/plain": [
       "                   id                                               text  \\\n",
       "0  811156813181841408  Zurigo, trovato morto il presunto autore della...   \n",
       "1  811183087350595584  Zurigo, trovato morto il presunto autore della...   \n",
       "2  826380632376881152  Zingari..i soliti \"MERDOSI\"..#cacciamolivia Ro...   \n",
       "3  844871171350802432  Zingari di merda,tutti al muro...bastardi Spar...   \n",
       "4  509712824361570304  zero notizie decreto #tfaordinario II ciclo ze...   \n",
       "\n",
       "   irony  sarcasm  topic  \n",
       "0      0        0    HSC  \n",
       "1      0        0    HSC  \n",
       "2      0        0    HSC  \n",
       "3      0        0    HSC  \n",
       "4      1        0  TW-BS  "
      ]
     },
     "execution_count": 3,
     "metadata": {},
     "output_type": "execute_result"
    }
   ],
   "source": [
    "training_set.head()"
   ]
  },
  {
   "cell_type": "code",
   "execution_count": 4,
   "metadata": {},
   "outputs": [
    {
     "data": {
      "text/html": [
       "<div>\n",
       "<style scoped>\n",
       "    .dataframe tbody tr th:only-of-type {\n",
       "        vertical-align: middle;\n",
       "    }\n",
       "\n",
       "    .dataframe tbody tr th {\n",
       "        vertical-align: top;\n",
       "    }\n",
       "\n",
       "    .dataframe thead th {\n",
       "        text-align: right;\n",
       "    }\n",
       "</style>\n",
       "<table border=\"1\" class=\"dataframe\">\n",
       "  <thead>\n",
       "    <tr style=\"text-align: right;\">\n",
       "      <th></th>\n",
       "      <th>id</th>\n",
       "      <th>text</th>\n",
       "      <th>irony</th>\n",
       "      <th>sarcasm</th>\n",
       "      <th>topic</th>\n",
       "    </tr>\n",
       "  </thead>\n",
       "  <tbody>\n",
       "    <tr>\n",
       "      <th>0</th>\n",
       "      <td>595524450503815168</td>\n",
       "      <td>-Prendere i libri in copisteria-Fare la spesa-...</td>\n",
       "      <td>1</td>\n",
       "      <td>0</td>\n",
       "      <td>TWITA</td>\n",
       "    </tr>\n",
       "    <tr>\n",
       "      <th>1</th>\n",
       "      <td>578468106504433665</td>\n",
       "      <td>...comunque con una crociera Costa se non ti a...</td>\n",
       "      <td>1</td>\n",
       "      <td>0</td>\n",
       "      <td>HSC</td>\n",
       "    </tr>\n",
       "    <tr>\n",
       "      <th>2</th>\n",
       "      <td>577791521174466560</td>\n",
       "      <td>“&lt;MENTION_1&gt; Ogni ragazza: \\\"non sono una raga...</td>\n",
       "      <td>1</td>\n",
       "      <td>1</td>\n",
       "      <td>TWITA</td>\n",
       "    </tr>\n",
       "    <tr>\n",
       "      <th>3</th>\n",
       "      <td>507464919303069697</td>\n",
       "      <td>“La buona scuola”? Fa gli errori di grammatica...</td>\n",
       "      <td>0</td>\n",
       "      <td>0</td>\n",
       "      <td>TW-BS</td>\n",
       "    </tr>\n",
       "    <tr>\n",
       "      <th>4</th>\n",
       "      <td>839896135619727362</td>\n",
       "      <td>“Vi hanno sfrattato? Andate al campo rom in un...</td>\n",
       "      <td>0</td>\n",
       "      <td>0</td>\n",
       "      <td>HSC</td>\n",
       "    </tr>\n",
       "  </tbody>\n",
       "</table>\n",
       "</div>"
      ],
      "text/plain": [
       "                   id                                               text  \\\n",
       "0  595524450503815168  -Prendere i libri in copisteria-Fare la spesa-...   \n",
       "1  578468106504433665  ...comunque con una crociera Costa se non ti a...   \n",
       "2  577791521174466560  “<MENTION_1> Ogni ragazza: \\\"non sono una raga...   \n",
       "3  507464919303069697  “La buona scuola”? Fa gli errori di grammatica...   \n",
       "4  839896135619727362  “Vi hanno sfrattato? Andate al campo rom in un...   \n",
       "\n",
       "   irony  sarcasm  topic  \n",
       "0      1        0  TWITA  \n",
       "1      1        0    HSC  \n",
       "2      1        1  TWITA  \n",
       "3      0        0  TW-BS  \n",
       "4      0        0    HSC  "
      ]
     },
     "execution_count": 4,
     "metadata": {},
     "output_type": "execute_result"
    }
   ],
   "source": [
    "test_set.head()"
   ]
  },
  {
   "cell_type": "code",
   "execution_count": 5,
   "metadata": {},
   "outputs": [],
   "source": [
    "#funzione che trasforma ogni sample in un documento txt\n",
    "def transform(df, set_type):\n",
    "    for index,row in df.iterrows():\n",
    "        filename = f'profiling_input/{set_type}#{row[\"id\"]}#{row[\"irony\"]}#{row[\"sarcasm\"]}#{row[\"topic\"]}.txt'\n",
    "        with open(filename, 'w', encoding='utf-8') as single_file:\n",
    "            single_file.write(row[\"text\"]) \n",
    "\n",
    "transform(training_set, \"training\")\n",
    "transform(test_set, \"test\")"
   ]
  },
  {
   "attachments": {},
   "cell_type": "markdown",
   "metadata": {},
   "source": [
    "Una volta ottenuti i singoli documenti corrispondenti ai singoli sample del dataset, questi vengono passati a profiling UD.\n",
    "Questo restituirà un nuovo dataset (formato csv) con un insieme di features basate sulla profilazione dei testi (x es. lunghezza delle frasi ecc.).\n"
   ]
  },
  {
   "attachments": {},
   "cell_type": "markdown",
   "metadata": {},
   "source": [
    "### Pre-processing per modello SVM \n",
    "\n",
    "In questa sezione viene caricato il dataset restituito da profiling UD e vengono eseguiti una serie di procedimenti per la standardizzazione e normalizzazione dei dati, così da poter poi essere passati al modello SVM"
   ]
  },
  {
   "cell_type": "code",
   "execution_count": 6,
   "metadata": {},
   "outputs": [],
   "source": [
    "from sklearn.preprocessing import MinMaxScaler"
   ]
  },
  {
   "cell_type": "code",
   "execution_count": 7,
   "metadata": {},
   "outputs": [
    {
     "data": {
      "text/html": [
       "<div>\n",
       "<style scoped>\n",
       "    .dataframe tbody tr th:only-of-type {\n",
       "        vertical-align: middle;\n",
       "    }\n",
       "\n",
       "    .dataframe tbody tr th {\n",
       "        vertical-align: top;\n",
       "    }\n",
       "\n",
       "    .dataframe thead th {\n",
       "        text-align: right;\n",
       "    }\n",
       "</style>\n",
       "<table border=\"1\" class=\"dataframe\">\n",
       "  <thead>\n",
       "    <tr style=\"text-align: right;\">\n",
       "      <th></th>\n",
       "      <th>Filename</th>\n",
       "      <th>n_sentences</th>\n",
       "      <th>n_tokens</th>\n",
       "      <th>tokens_per_sent</th>\n",
       "      <th>char_per_tok</th>\n",
       "      <th>upos_dist_ADJ</th>\n",
       "      <th>upos_dist_ADP</th>\n",
       "      <th>upos_dist_ADV</th>\n",
       "      <th>upos_dist_AUX</th>\n",
       "      <th>upos_dist_CCONJ</th>\n",
       "      <th>...</th>\n",
       "      <th>principal_proposition_dist</th>\n",
       "      <th>subordinate_proposition_dist</th>\n",
       "      <th>subordinate_post</th>\n",
       "      <th>subordinate_pre</th>\n",
       "      <th>avg_subordinate_chain_len</th>\n",
       "      <th>subordinate_dist_1</th>\n",
       "      <th>subordinate_dist_2</th>\n",
       "      <th>subordinate_dist_3</th>\n",
       "      <th>subordinate_dist_4</th>\n",
       "      <th>subordinate_dist_5</th>\n",
       "    </tr>\n",
       "  </thead>\n",
       "  <tbody>\n",
       "    <tr>\n",
       "      <th>0</th>\n",
       "      <td>training#799528852410265600#1#1#HSC.conllu</td>\n",
       "      <td>1</td>\n",
       "      <td>19</td>\n",
       "      <td>19.0</td>\n",
       "      <td>5.250000</td>\n",
       "      <td>10.526316</td>\n",
       "      <td>5.263158</td>\n",
       "      <td>0.000000</td>\n",
       "      <td>0.000000</td>\n",
       "      <td>5.263158</td>\n",
       "      <td>...</td>\n",
       "      <td>100.000000</td>\n",
       "      <td>0.000000</td>\n",
       "      <td>0.0</td>\n",
       "      <td>0.0</td>\n",
       "      <td>0.0</td>\n",
       "      <td>0.0</td>\n",
       "      <td>0.0</td>\n",
       "      <td>0.0</td>\n",
       "      <td>0.0</td>\n",
       "      <td>0.0</td>\n",
       "    </tr>\n",
       "    <tr>\n",
       "      <th>1</th>\n",
       "      <td>training#808400282107445250#0#0#HSC.conllu</td>\n",
       "      <td>2</td>\n",
       "      <td>15</td>\n",
       "      <td>7.5</td>\n",
       "      <td>7.230769</td>\n",
       "      <td>0.000000</td>\n",
       "      <td>13.333333</td>\n",
       "      <td>0.000000</td>\n",
       "      <td>0.000000</td>\n",
       "      <td>0.000000</td>\n",
       "      <td>...</td>\n",
       "      <td>0.000000</td>\n",
       "      <td>0.000000</td>\n",
       "      <td>0.0</td>\n",
       "      <td>0.0</td>\n",
       "      <td>0.0</td>\n",
       "      <td>0.0</td>\n",
       "      <td>0.0</td>\n",
       "      <td>0.0</td>\n",
       "      <td>0.0</td>\n",
       "      <td>0.0</td>\n",
       "    </tr>\n",
       "    <tr>\n",
       "      <th>2</th>\n",
       "      <td>training#553992006671024129#1#1#HSC.conllu</td>\n",
       "      <td>1</td>\n",
       "      <td>14</td>\n",
       "      <td>14.0</td>\n",
       "      <td>4.571429</td>\n",
       "      <td>21.428571</td>\n",
       "      <td>14.285714</td>\n",
       "      <td>0.000000</td>\n",
       "      <td>7.142857</td>\n",
       "      <td>7.142857</td>\n",
       "      <td>...</td>\n",
       "      <td>100.000000</td>\n",
       "      <td>0.000000</td>\n",
       "      <td>0.0</td>\n",
       "      <td>0.0</td>\n",
       "      <td>0.0</td>\n",
       "      <td>0.0</td>\n",
       "      <td>0.0</td>\n",
       "      <td>0.0</td>\n",
       "      <td>0.0</td>\n",
       "      <td>0.0</td>\n",
       "    </tr>\n",
       "    <tr>\n",
       "      <th>3</th>\n",
       "      <td>training#531752278152462336#1#0#TW-BS.conllu</td>\n",
       "      <td>2</td>\n",
       "      <td>12</td>\n",
       "      <td>6.0</td>\n",
       "      <td>6.181818</td>\n",
       "      <td>0.000000</td>\n",
       "      <td>8.333333</td>\n",
       "      <td>0.000000</td>\n",
       "      <td>0.000000</td>\n",
       "      <td>8.333333</td>\n",
       "      <td>...</td>\n",
       "      <td>100.000000</td>\n",
       "      <td>0.000000</td>\n",
       "      <td>0.0</td>\n",
       "      <td>0.0</td>\n",
       "      <td>0.0</td>\n",
       "      <td>0.0</td>\n",
       "      <td>0.0</td>\n",
       "      <td>0.0</td>\n",
       "      <td>0.0</td>\n",
       "      <td>0.0</td>\n",
       "    </tr>\n",
       "    <tr>\n",
       "      <th>4</th>\n",
       "      <td>training#507259632075542528#1#1#TW-BS.conllu</td>\n",
       "      <td>2</td>\n",
       "      <td>26</td>\n",
       "      <td>13.0</td>\n",
       "      <td>4.680000</td>\n",
       "      <td>7.692308</td>\n",
       "      <td>19.230769</td>\n",
       "      <td>7.692308</td>\n",
       "      <td>3.846154</td>\n",
       "      <td>0.000000</td>\n",
       "      <td>...</td>\n",
       "      <td>66.666667</td>\n",
       "      <td>33.333333</td>\n",
       "      <td>100.0</td>\n",
       "      <td>0.0</td>\n",
       "      <td>1.0</td>\n",
       "      <td>100.0</td>\n",
       "      <td>0.0</td>\n",
       "      <td>0.0</td>\n",
       "      <td>0.0</td>\n",
       "      <td>0.0</td>\n",
       "    </tr>\n",
       "  </tbody>\n",
       "</table>\n",
       "<p>5 rows × 134 columns</p>\n",
       "</div>"
      ],
      "text/plain": [
       "                                       Filename  n_sentences  n_tokens  \\\n",
       "0    training#799528852410265600#1#1#HSC.conllu            1        19   \n",
       "1    training#808400282107445250#0#0#HSC.conllu            2        15   \n",
       "2    training#553992006671024129#1#1#HSC.conllu            1        14   \n",
       "3  training#531752278152462336#1#0#TW-BS.conllu            2        12   \n",
       "4  training#507259632075542528#1#1#TW-BS.conllu            2        26   \n",
       "\n",
       "   tokens_per_sent  char_per_tok  upos_dist_ADJ  upos_dist_ADP  upos_dist_ADV  \\\n",
       "0             19.0      5.250000      10.526316       5.263158       0.000000   \n",
       "1              7.5      7.230769       0.000000      13.333333       0.000000   \n",
       "2             14.0      4.571429      21.428571      14.285714       0.000000   \n",
       "3              6.0      6.181818       0.000000       8.333333       0.000000   \n",
       "4             13.0      4.680000       7.692308      19.230769       7.692308   \n",
       "\n",
       "   upos_dist_AUX  upos_dist_CCONJ  ...  principal_proposition_dist  \\\n",
       "0       0.000000         5.263158  ...                  100.000000   \n",
       "1       0.000000         0.000000  ...                    0.000000   \n",
       "2       7.142857         7.142857  ...                  100.000000   \n",
       "3       0.000000         8.333333  ...                  100.000000   \n",
       "4       3.846154         0.000000  ...                   66.666667   \n",
       "\n",
       "   subordinate_proposition_dist  subordinate_post  subordinate_pre  \\\n",
       "0                      0.000000               0.0              0.0   \n",
       "1                      0.000000               0.0              0.0   \n",
       "2                      0.000000               0.0              0.0   \n",
       "3                      0.000000               0.0              0.0   \n",
       "4                     33.333333             100.0              0.0   \n",
       "\n",
       "   avg_subordinate_chain_len  subordinate_dist_1  subordinate_dist_2  \\\n",
       "0                        0.0                 0.0                 0.0   \n",
       "1                        0.0                 0.0                 0.0   \n",
       "2                        0.0                 0.0                 0.0   \n",
       "3                        0.0                 0.0                 0.0   \n",
       "4                        1.0               100.0                 0.0   \n",
       "\n",
       "   subordinate_dist_3  subordinate_dist_4  subordinate_dist_5  \n",
       "0                 0.0                 0.0                 0.0  \n",
       "1                 0.0                 0.0                 0.0  \n",
       "2                 0.0                 0.0                 0.0  \n",
       "3                 0.0                 0.0                 0.0  \n",
       "4                 0.0                 0.0                 0.0  \n",
       "\n",
       "[5 rows x 134 columns]"
      ]
     },
     "execution_count": 7,
     "metadata": {},
     "output_type": "execute_result"
    }
   ],
   "source": [
    "UD_dataset = pd.read_csv(\"profiling_output/7075.csv\", sep=\"\\t\")\n",
    "UD_dataset.head()"
   ]
  },
  {
   "cell_type": "code",
   "execution_count": 8,
   "metadata": {},
   "outputs": [],
   "source": [
    "#funzione per aggiungere al dataframe una colonna con le labels\n",
    "def get_labels(x):\n",
    "    splitted = x.split(\"#\")\n",
    "    return splitted[2]\n"
   ]
  },
  {
   "cell_type": "code",
   "execution_count": 9,
   "metadata": {},
   "outputs": [],
   "source": [
    "#funzione per aggiungere al dataframe una colonna che identifica train o test\n",
    "def traintest(x):\n",
    "    splitted = x.split(\"#\")\n",
    "    if splitted[0]==\"training\":\n",
    "        return \"training\"\n",
    "    else:\n",
    "        return \"test\"\n",
    "    "
   ]
  },
  {
   "cell_type": "code",
   "execution_count": 10,
   "metadata": {},
   "outputs": [],
   "source": [
    "#si aggiungono le colonne per l'ironia e il tipo (training o test) del sample\n",
    "UD_dataset[\"label\"] = UD_dataset[\"Filename\"].apply(get_labels)\n",
    "UD_dataset[\"type\"] = UD_dataset[\"Filename\"].apply(traintest)"
   ]
  },
  {
   "cell_type": "code",
   "execution_count": 11,
   "metadata": {},
   "outputs": [
    {
     "data": {
      "text/html": [
       "<div>\n",
       "<style scoped>\n",
       "    .dataframe tbody tr th:only-of-type {\n",
       "        vertical-align: middle;\n",
       "    }\n",
       "\n",
       "    .dataframe tbody tr th {\n",
       "        vertical-align: top;\n",
       "    }\n",
       "\n",
       "    .dataframe thead th {\n",
       "        text-align: right;\n",
       "    }\n",
       "</style>\n",
       "<table border=\"1\" class=\"dataframe\">\n",
       "  <thead>\n",
       "    <tr style=\"text-align: right;\">\n",
       "      <th></th>\n",
       "      <th>Filename</th>\n",
       "      <th>n_sentences</th>\n",
       "      <th>n_tokens</th>\n",
       "      <th>tokens_per_sent</th>\n",
       "      <th>char_per_tok</th>\n",
       "      <th>upos_dist_ADJ</th>\n",
       "      <th>upos_dist_ADP</th>\n",
       "      <th>upos_dist_ADV</th>\n",
       "      <th>upos_dist_AUX</th>\n",
       "      <th>upos_dist_CCONJ</th>\n",
       "      <th>...</th>\n",
       "      <th>subordinate_post</th>\n",
       "      <th>subordinate_pre</th>\n",
       "      <th>avg_subordinate_chain_len</th>\n",
       "      <th>subordinate_dist_1</th>\n",
       "      <th>subordinate_dist_2</th>\n",
       "      <th>subordinate_dist_3</th>\n",
       "      <th>subordinate_dist_4</th>\n",
       "      <th>subordinate_dist_5</th>\n",
       "      <th>label</th>\n",
       "      <th>type</th>\n",
       "    </tr>\n",
       "  </thead>\n",
       "  <tbody>\n",
       "    <tr>\n",
       "      <th>0</th>\n",
       "      <td>training#799528852410265600#1#1#HSC.conllu</td>\n",
       "      <td>1</td>\n",
       "      <td>19</td>\n",
       "      <td>19.0</td>\n",
       "      <td>5.250000</td>\n",
       "      <td>10.526316</td>\n",
       "      <td>5.263158</td>\n",
       "      <td>0.000000</td>\n",
       "      <td>0.000000</td>\n",
       "      <td>5.263158</td>\n",
       "      <td>...</td>\n",
       "      <td>0.0</td>\n",
       "      <td>0.0</td>\n",
       "      <td>0.0</td>\n",
       "      <td>0.0</td>\n",
       "      <td>0.0</td>\n",
       "      <td>0.0</td>\n",
       "      <td>0.0</td>\n",
       "      <td>0.0</td>\n",
       "      <td>1</td>\n",
       "      <td>training</td>\n",
       "    </tr>\n",
       "    <tr>\n",
       "      <th>1</th>\n",
       "      <td>training#808400282107445250#0#0#HSC.conllu</td>\n",
       "      <td>2</td>\n",
       "      <td>15</td>\n",
       "      <td>7.5</td>\n",
       "      <td>7.230769</td>\n",
       "      <td>0.000000</td>\n",
       "      <td>13.333333</td>\n",
       "      <td>0.000000</td>\n",
       "      <td>0.000000</td>\n",
       "      <td>0.000000</td>\n",
       "      <td>...</td>\n",
       "      <td>0.0</td>\n",
       "      <td>0.0</td>\n",
       "      <td>0.0</td>\n",
       "      <td>0.0</td>\n",
       "      <td>0.0</td>\n",
       "      <td>0.0</td>\n",
       "      <td>0.0</td>\n",
       "      <td>0.0</td>\n",
       "      <td>0</td>\n",
       "      <td>training</td>\n",
       "    </tr>\n",
       "    <tr>\n",
       "      <th>2</th>\n",
       "      <td>training#553992006671024129#1#1#HSC.conllu</td>\n",
       "      <td>1</td>\n",
       "      <td>14</td>\n",
       "      <td>14.0</td>\n",
       "      <td>4.571429</td>\n",
       "      <td>21.428571</td>\n",
       "      <td>14.285714</td>\n",
       "      <td>0.000000</td>\n",
       "      <td>7.142857</td>\n",
       "      <td>7.142857</td>\n",
       "      <td>...</td>\n",
       "      <td>0.0</td>\n",
       "      <td>0.0</td>\n",
       "      <td>0.0</td>\n",
       "      <td>0.0</td>\n",
       "      <td>0.0</td>\n",
       "      <td>0.0</td>\n",
       "      <td>0.0</td>\n",
       "      <td>0.0</td>\n",
       "      <td>1</td>\n",
       "      <td>training</td>\n",
       "    </tr>\n",
       "    <tr>\n",
       "      <th>3</th>\n",
       "      <td>training#531752278152462336#1#0#TW-BS.conllu</td>\n",
       "      <td>2</td>\n",
       "      <td>12</td>\n",
       "      <td>6.0</td>\n",
       "      <td>6.181818</td>\n",
       "      <td>0.000000</td>\n",
       "      <td>8.333333</td>\n",
       "      <td>0.000000</td>\n",
       "      <td>0.000000</td>\n",
       "      <td>8.333333</td>\n",
       "      <td>...</td>\n",
       "      <td>0.0</td>\n",
       "      <td>0.0</td>\n",
       "      <td>0.0</td>\n",
       "      <td>0.0</td>\n",
       "      <td>0.0</td>\n",
       "      <td>0.0</td>\n",
       "      <td>0.0</td>\n",
       "      <td>0.0</td>\n",
       "      <td>1</td>\n",
       "      <td>training</td>\n",
       "    </tr>\n",
       "    <tr>\n",
       "      <th>4</th>\n",
       "      <td>training#507259632075542528#1#1#TW-BS.conllu</td>\n",
       "      <td>2</td>\n",
       "      <td>26</td>\n",
       "      <td>13.0</td>\n",
       "      <td>4.680000</td>\n",
       "      <td>7.692308</td>\n",
       "      <td>19.230769</td>\n",
       "      <td>7.692308</td>\n",
       "      <td>3.846154</td>\n",
       "      <td>0.000000</td>\n",
       "      <td>...</td>\n",
       "      <td>100.0</td>\n",
       "      <td>0.0</td>\n",
       "      <td>1.0</td>\n",
       "      <td>100.0</td>\n",
       "      <td>0.0</td>\n",
       "      <td>0.0</td>\n",
       "      <td>0.0</td>\n",
       "      <td>0.0</td>\n",
       "      <td>1</td>\n",
       "      <td>training</td>\n",
       "    </tr>\n",
       "  </tbody>\n",
       "</table>\n",
       "<p>5 rows × 136 columns</p>\n",
       "</div>"
      ],
      "text/plain": [
       "                                       Filename  n_sentences  n_tokens  \\\n",
       "0    training#799528852410265600#1#1#HSC.conllu            1        19   \n",
       "1    training#808400282107445250#0#0#HSC.conllu            2        15   \n",
       "2    training#553992006671024129#1#1#HSC.conllu            1        14   \n",
       "3  training#531752278152462336#1#0#TW-BS.conllu            2        12   \n",
       "4  training#507259632075542528#1#1#TW-BS.conllu            2        26   \n",
       "\n",
       "   tokens_per_sent  char_per_tok  upos_dist_ADJ  upos_dist_ADP  upos_dist_ADV  \\\n",
       "0             19.0      5.250000      10.526316       5.263158       0.000000   \n",
       "1              7.5      7.230769       0.000000      13.333333       0.000000   \n",
       "2             14.0      4.571429      21.428571      14.285714       0.000000   \n",
       "3              6.0      6.181818       0.000000       8.333333       0.000000   \n",
       "4             13.0      4.680000       7.692308      19.230769       7.692308   \n",
       "\n",
       "   upos_dist_AUX  upos_dist_CCONJ  ...  subordinate_post  subordinate_pre  \\\n",
       "0       0.000000         5.263158  ...               0.0              0.0   \n",
       "1       0.000000         0.000000  ...               0.0              0.0   \n",
       "2       7.142857         7.142857  ...               0.0              0.0   \n",
       "3       0.000000         8.333333  ...               0.0              0.0   \n",
       "4       3.846154         0.000000  ...             100.0              0.0   \n",
       "\n",
       "   avg_subordinate_chain_len  subordinate_dist_1  subordinate_dist_2  \\\n",
       "0                        0.0                 0.0                 0.0   \n",
       "1                        0.0                 0.0                 0.0   \n",
       "2                        0.0                 0.0                 0.0   \n",
       "3                        0.0                 0.0                 0.0   \n",
       "4                        1.0               100.0                 0.0   \n",
       "\n",
       "   subordinate_dist_3  subordinate_dist_4  subordinate_dist_5  label      type  \n",
       "0                 0.0                 0.0                 0.0      1  training  \n",
       "1                 0.0                 0.0                 0.0      0  training  \n",
       "2                 0.0                 0.0                 0.0      1  training  \n",
       "3                 0.0                 0.0                 0.0      1  training  \n",
       "4                 0.0                 0.0                 0.0      1  training  \n",
       "\n",
       "[5 rows x 136 columns]"
      ]
     },
     "execution_count": 11,
     "metadata": {},
     "output_type": "execute_result"
    }
   ],
   "source": [
    "UD_dataset.head()"
   ]
  },
  {
   "cell_type": "code",
   "execution_count": 12,
   "metadata": {},
   "outputs": [],
   "source": [
    "training_df = UD_dataset.loc[UD_dataset[\"type\"]==\"training\"]\n",
    "test_df = UD_dataset.loc[UD_dataset[\"type\"]==\"test\"]"
   ]
  },
  {
   "cell_type": "code",
   "execution_count": 13,
   "metadata": {},
   "outputs": [],
   "source": [
    "#creazione della lista delle feature per ogni esempio, sia train che test\n",
    "feature_names = UD_dataset.columns.to_list()[1:-3]\n",
    "training_set = []\n",
    "test_set = []\n",
    "for index, row in UD_dataset.iterrows():\n",
    "    feature_vals = []\n",
    "    for feature in feature_names:\n",
    "        feature_vals.append(row[feature])\n",
    "    if row[\"type\"]==\"training\":\n",
    "        training_set.append(feature_vals)\n",
    "    else:\n",
    "        test_set.append(feature_vals)"
   ]
  },
  {
   "cell_type": "code",
   "execution_count": 14,
   "metadata": {},
   "outputs": [],
   "source": [
    "tr_labels = training_df[\"label\"].to_list()\n",
    "ts_labels = test_df[\"label\"].to_list()"
   ]
  },
  {
   "cell_type": "code",
   "execution_count": 15,
   "metadata": {},
   "outputs": [
    {
     "name": "stdout",
     "output_type": "stream",
     "text": [
      "Training: 3977\n",
      "Test: 872\n",
      "Numero feature: 132\n"
     ]
    }
   ],
   "source": [
    "#contiamo i sample per training e test, e il numero di feature\n",
    "print(f'Training: {len(training_set)}')\n",
    "print(f'Test: {len(test_set)}')\n",
    "print(f'Numero feature: {len(feature_names)}')"
   ]
  },
  {
   "cell_type": "code",
   "execution_count": 16,
   "metadata": {},
   "outputs": [
    {
     "name": "stdout",
     "output_type": "stream",
     "text": [
      "I valori sono stati trasformati in valori tra 0 e 1: \n",
      " [0.         0.47222222 0.5        0.17821782 0.21052632 0.15037594\n",
      " 0.         0.         0.26315789 0.39473684 0.         0.21052632\n",
      " 0.19736842 0.         0.15789474 0.19736842 0.         0.\n",
      " 0.14736842 0.         0.48863636 1.         0.         0.\n",
      " 0.         0.         0.         1.         0.         1.\n",
      " 0.         0.         0.         0.         0.         0.\n",
      " 0.         0.         1.         0.         0.         0.\n",
      " 0.         0.         0.         0.         0.         0.\n",
      " 0.         0.         0.         0.         0.         0.\n",
      " 0.         0.         0.         0.14285714 1.         0.83333333\n",
      " 0.         0.         0.         0.         0.         1.\n",
      " 0.         0.27272727 0.52777778 0.33333333 0.22686567 0.32142857\n",
      " 0.         0.         0.         0.         0.         0.\n",
      " 0.         1.         1.         0.         0.         0.\n",
      " 0.         0.         0.21052632 0.         0.         0.\n",
      " 0.15037594 0.26315789 0.         0.         0.15789474 0.\n",
      " 0.         0.31578947 0.47368421 0.         0.         0.\n",
      " 0.         0.         0.         0.         0.30263158 0.\n",
      " 0.         0.         0.         0.11278195 0.22807018 0.\n",
      " 0.         0.47368421 0.42105263 0.         0.         0.19736842\n",
      " 0.05263158 0.         0.         1.         0.         0.\n",
      " 0.         0.         0.         0.         0.         0.        ]\n"
     ]
    }
   ],
   "source": [
    "#scaling dei valori delle features\n",
    "scaler = MinMaxScaler()\n",
    "training_set = scaler.fit_transform(training_set)\n",
    "test_set = scaler.fit_transform(test_set)\n",
    "print(\"I valori sono stati trasformati in valori tra 0 e 1: \\n\" , training_set[0])"
   ]
  },
  {
   "attachments": {},
   "cell_type": "markdown",
   "metadata": {},
   "source": [
    "### Training \n",
    "\n",
    "In questa sezione si procede a fare l'allenamento del modello SVM lineare. \n",
    "Si allena sia sulle label dell'ironia che del sarcasmo. Si testano, poi, gli score di accuratezza sul training set per avere un'idea di come si comporta il classificatore con un semplice ciclo di training (senza validation)."
   ]
  },
  {
   "cell_type": "code",
   "execution_count": 17,
   "metadata": {},
   "outputs": [],
   "source": [
    "from sklearn.svm import LinearSVC\n",
    "from sklearn.metrics import classification_report, ConfusionMatrixDisplay, confusion_matrix"
   ]
  },
  {
   "cell_type": "code",
   "execution_count": 19,
   "metadata": {},
   "outputs": [
    {
     "data": {
      "text/plain": [
       "<sklearn.metrics._plot.confusion_matrix.ConfusionMatrixDisplay at 0x1e70ea89b70>"
      ]
     },
     "execution_count": 19,
     "metadata": {},
     "output_type": "execute_result"
    },
    {
     "data": {
      "image/png": "[encoded data removed]",
      "text/plain": [
       "<Figure size 432x288 with 2 Axes>"
      ]
     },
     "metadata": {
      "needs_background": "light"
     },
     "output_type": "display_data"
    }
   ],
   "source": [
    "#numero feature < del numero di sample, quindi usare dual = False\n",
    "svc = LinearSVC(dual=False)\n",
    "svc.fit(training_set, tr_labels) \n",
    "predictions = svc.predict(training_set)\n",
    "ConfusionMatrixDisplay.from_predictions(tr_labels, predictions, cmap='Blues')"
   ]
  },
  {
   "cell_type": "code",
   "execution_count": 20,
   "metadata": {},
   "outputs": [
    {
     "name": "stdout",
     "output_type": "stream",
     "text": [
      "              precision    recall  f1-score   support\n",
      "\n",
      "           0       0.68      0.62      0.65      1954\n",
      "           1       0.66      0.72      0.69      2023\n",
      "\n",
      "    accuracy                           0.67      3977\n",
      "   macro avg       0.67      0.67      0.67      3977\n",
      "weighted avg       0.67      0.67      0.67      3977\n",
      "\n"
     ]
    }
   ],
   "source": [
    "print(classification_report(tr_labels, predictions)) # output_dict=True"
   ]
  },
  {
   "cell_type": "code",
   "execution_count": 225,
   "metadata": {},
   "outputs": [
    {
     "name": "stdout",
     "output_type": "stream",
     "text": [
      "              precision    recall  f1-score   support\n",
      "\n",
      "           0       0.68      0.62      0.65      1954\n",
      "           1       0.66      0.72      0.69      2023\n",
      "\n",
      "    accuracy                           0.67      3977\n",
      "   macro avg       0.67      0.67      0.67      3977\n",
      "weighted avg       0.67      0.67      0.67      3977\n",
      "\n"
     ]
    }
   ],
   "source": [
    "print(classification_report(tr_labels, predictions)) # output_dict=True"
   ]
  },
  {
   "attachments": {},
   "cell_type": "markdown",
   "metadata": {},
   "source": [
    "Notiamo come nel caso del sarcasmo il modello attribuisce a una gran parte di sample la label 0. Possiamo ipotizzare che all'interno del training set ci sia uno sbilanciamento di esempi. Probabilmente gli esempi etichettati con 0 sono più di quelli etichettati con 1."
   ]
  },
  {
   "cell_type": "code",
   "execution_count": 21,
   "metadata": {},
   "outputs": [
    {
     "ename": "KeyError",
     "evalue": "'label_irony'",
     "output_type": "error",
     "traceback": [
      "\u001b[1;31m---------------------------------------------------------------------------\u001b[0m",
      "\u001b[1;31mKeyError\u001b[0m                                  Traceback (most recent call last)",
      "File \u001b[1;32mc:\\Users\\bergo\\AppData\\Local\\Programs\\Python\\Python310\\lib\\site-packages\\pandas\\core\\indexes\\base.py:3621\u001b[0m, in \u001b[0;36mIndex.get_loc\u001b[1;34m(self, key, method, tolerance)\u001b[0m\n\u001b[0;32m   3620\u001b[0m \u001b[39mtry\u001b[39;00m:\n\u001b[1;32m-> 3621\u001b[0m     \u001b[39mreturn\u001b[39;00m \u001b[39mself\u001b[39;49m\u001b[39m.\u001b[39;49m_engine\u001b[39m.\u001b[39;49mget_loc(casted_key)\n\u001b[0;32m   3622\u001b[0m \u001b[39mexcept\u001b[39;00m \u001b[39mKeyError\u001b[39;00m \u001b[39mas\u001b[39;00m err:\n",
      "File \u001b[1;32mc:\\Users\\bergo\\AppData\\Local\\Programs\\Python\\Python310\\lib\\site-packages\\pandas\\_libs\\index.pyx:136\u001b[0m, in \u001b[0;36mpandas._libs.index.IndexEngine.get_loc\u001b[1;34m()\u001b[0m\n",
      "File \u001b[1;32mc:\\Users\\bergo\\AppData\\Local\\Programs\\Python\\Python310\\lib\\site-packages\\pandas\\_libs\\index.pyx:163\u001b[0m, in \u001b[0;36mpandas._libs.index.IndexEngine.get_loc\u001b[1;34m()\u001b[0m\n",
      "File \u001b[1;32mpandas\\_libs\\hashtable_class_helper.pxi:5198\u001b[0m, in \u001b[0;36mpandas._libs.hashtable.PyObjectHashTable.get_item\u001b[1;34m()\u001b[0m\n",
      "File \u001b[1;32mpandas\\_libs\\hashtable_class_helper.pxi:5206\u001b[0m, in \u001b[0;36mpandas._libs.hashtable.PyObjectHashTable.get_item\u001b[1;34m()\u001b[0m\n",
      "\u001b[1;31mKeyError\u001b[0m: 'label_irony'",
      "\nThe above exception was the direct cause of the following exception:\n",
      "\u001b[1;31mKeyError\u001b[0m                                  Traceback (most recent call last)",
      "\u001b[1;32mc:\\Users\\bergo\\Desktop\\Uni\\LCII_Project\\LCII_project\\1_svmUD\\project.ipynb Cell 25\u001b[0m in \u001b[0;36m<cell line: 1>\u001b[1;34m()\u001b[0m\n\u001b[1;32m----> <a href='vscode-notebook-cell:/c%3A/Users/bergo/Desktop/Uni/LCII_Project/LCII_project/1_svmUD/project.ipynb#X36sZmlsZQ%3D%3D?line=0'>1</a>\u001b[0m UD_dataset[\u001b[39m\"\u001b[39;49m\u001b[39mlabel_irony\u001b[39;49m\u001b[39m\"\u001b[39;49m]\u001b[39m.\u001b[39mvalue_counts()\n",
      "File \u001b[1;32mc:\\Users\\bergo\\AppData\\Local\\Programs\\Python\\Python310\\lib\\site-packages\\pandas\\core\\frame.py:3505\u001b[0m, in \u001b[0;36mDataFrame.__getitem__\u001b[1;34m(self, key)\u001b[0m\n\u001b[0;32m   3503\u001b[0m \u001b[39mif\u001b[39;00m \u001b[39mself\u001b[39m\u001b[39m.\u001b[39mcolumns\u001b[39m.\u001b[39mnlevels \u001b[39m>\u001b[39m \u001b[39m1\u001b[39m:\n\u001b[0;32m   3504\u001b[0m     \u001b[39mreturn\u001b[39;00m \u001b[39mself\u001b[39m\u001b[39m.\u001b[39m_getitem_multilevel(key)\n\u001b[1;32m-> 3505\u001b[0m indexer \u001b[39m=\u001b[39m \u001b[39mself\u001b[39;49m\u001b[39m.\u001b[39;49mcolumns\u001b[39m.\u001b[39;49mget_loc(key)\n\u001b[0;32m   3506\u001b[0m \u001b[39mif\u001b[39;00m is_integer(indexer):\n\u001b[0;32m   3507\u001b[0m     indexer \u001b[39m=\u001b[39m [indexer]\n",
      "File \u001b[1;32mc:\\Users\\bergo\\AppData\\Local\\Programs\\Python\\Python310\\lib\\site-packages\\pandas\\core\\indexes\\base.py:3623\u001b[0m, in \u001b[0;36mIndex.get_loc\u001b[1;34m(self, key, method, tolerance)\u001b[0m\n\u001b[0;32m   3621\u001b[0m     \u001b[39mreturn\u001b[39;00m \u001b[39mself\u001b[39m\u001b[39m.\u001b[39m_engine\u001b[39m.\u001b[39mget_loc(casted_key)\n\u001b[0;32m   3622\u001b[0m \u001b[39mexcept\u001b[39;00m \u001b[39mKeyError\u001b[39;00m \u001b[39mas\u001b[39;00m err:\n\u001b[1;32m-> 3623\u001b[0m     \u001b[39mraise\u001b[39;00m \u001b[39mKeyError\u001b[39;00m(key) \u001b[39mfrom\u001b[39;00m \u001b[39merr\u001b[39;00m\n\u001b[0;32m   3624\u001b[0m \u001b[39mexcept\u001b[39;00m \u001b[39mTypeError\u001b[39;00m:\n\u001b[0;32m   3625\u001b[0m     \u001b[39m# If we have a listlike key, _check_indexing_error will raise\u001b[39;00m\n\u001b[0;32m   3626\u001b[0m     \u001b[39m#  InvalidIndexError. Otherwise we fall through and re-raise\u001b[39;00m\n\u001b[0;32m   3627\u001b[0m     \u001b[39m#  the TypeError.\u001b[39;00m\n\u001b[0;32m   3628\u001b[0m     \u001b[39mself\u001b[39m\u001b[39m.\u001b[39m_check_indexing_error(key)\n",
      "\u001b[1;31mKeyError\u001b[0m: 'label_irony'"
     ]
    }
   ],
   "source": [
    "UD_dataset[\"label\"].value_counts()"
   ]
  },
  {
   "attachments": {},
   "cell_type": "markdown",
   "metadata": {},
   "source": [
    "Notiamo che nel caso dell'ironia il numero di esempi etichettati con 0 e quelli etichettati con 1 sono abbastanza bilanciati."
   ]
  },
  {
   "attachments": {},
   "cell_type": "markdown",
   "metadata": {},
   "source": [
    "Nel caso, invece del sarcasmo, esiste effettivamente uno sbilanciamento vero lo 0, portando il nostro modello a predire molto più spesso lo 0."
   ]
  },
  {
   "attachments": {},
   "cell_type": "markdown",
   "metadata": {},
   "source": [
    "### Validation"
   ]
  },
  {
   "cell_type": "code",
   "execution_count": 22,
   "metadata": {},
   "outputs": [],
   "source": [
    "from sklearn.metrics import accuracy_score\n",
    "from sklearn.model_selection import KFold\n",
    "from sklearn.dummy import DummyClassifier\n",
    "import numpy as np"
   ]
  },
  {
   "cell_type": "code",
   "execution_count": 23,
   "metadata": {},
   "outputs": [
    {
     "name": "stdout",
     "output_type": "stream",
     "text": [
      "-------------------------Fold n.1 just started!-------------------------\n",
      "---> Prediction: \n",
      "Accuracy del modello: 0.6494974874371859\n",
      "Accuracy della baseline: 0.5213567839195979\n",
      "-------------------------Fold n.2 just started!-------------------------\n",
      "---> Prediction: \n",
      "Accuracy del modello: 0.5979899497487438\n",
      "Accuracy della baseline: 0.507537688442211\n",
      "-------------------------Fold n.3 just started!-------------------------\n",
      "---> Prediction: \n",
      "Accuracy del modello: 0.6339622641509434\n",
      "Accuracy della baseline: 0.4716981132075472\n",
      "-------------------------Fold n.4 just started!-------------------------\n",
      "---> Prediction: \n",
      "Accuracy del modello: 0.610062893081761\n",
      "Accuracy della baseline: 0.539622641509434\n",
      "-------------------------Fold n.5 just started!-------------------------\n",
      "---> Prediction: \n",
      "Accuracy del modello: 0.640251572327044\n",
      "Accuracy della baseline: 0.5031446540880503\n"
     ]
    }
   ],
   "source": [
    "splitter = KFold(n_splits=5, random_state=42, shuffle=True)\n",
    "folds = list(splitter.split(training_set))\n",
    "\n",
    "\n",
    "tr_labels=np.asarray(tr_labels)\n",
    "i=1\n",
    "real_lbls = []\n",
    "predicted_lbls = []\n",
    "\n",
    "for fold in folds:\n",
    "    print(f'-------------------------Fold n.{i} just started!-------------------------')\n",
    "    #si creano i set per ogni fold, training e test\n",
    "    train_index = fold[0]\n",
    "    test_index = fold[1]\n",
    "    #train set\n",
    "    x_train = training_set[train_index]\n",
    "    y_train= tr_labels[train_index]\n",
    "    #test set\n",
    "    x_test = training_set[test_index]\n",
    "    y_test = tr_labels[test_index]\n",
    "    #inizio del training\n",
    "    ksvc = LinearSVC(dual=False)\n",
    "    ksvc.fit(x_train, y_train)\n",
    "    #predictions\n",
    "    pred = ksvc.predict(x_test)\n",
    "    acc = accuracy_score(y_test, pred)\n",
    "    #usiamo un Dummy Classifier come Baseline\n",
    "    dummy = DummyClassifier(strategy=\"most_frequent\")\n",
    "    dummy.fit(x_train, y_train)\n",
    "    dummy_acc = dummy.score(x_test, y_test)\n",
    "    real_lbls+=y_test.tolist()\n",
    "    predicted_lbls+=pred.tolist()\n",
    "    print(\"---> Prediction: \")\n",
    "    print(f\"Accuracy del modello: {acc}\\nAccuracy della baseline: {dummy_acc}\")\n",
    "    i+=1\n",
    "        "
   ]
  },
  {
   "cell_type": "code",
   "execution_count": 24,
   "metadata": {},
   "outputs": [],
   "source": [
    "real_lbls=list(real_lbls)\n",
    "predicted_lbls=list(predicted_lbls)"
   ]
  },
  {
   "cell_type": "code",
   "execution_count": 25,
   "metadata": {},
   "outputs": [
    {
     "name": "stdout",
     "output_type": "stream",
     "text": [
      "              precision    recall  f1-score   support\n",
      "\n",
      "           0       0.63      0.58      0.60      1954\n",
      "           1       0.62      0.67      0.65      2023\n",
      "\n",
      "    accuracy                           0.63      3977\n",
      "   macro avg       0.63      0.63      0.63      3977\n",
      "weighted avg       0.63      0.63      0.63      3977\n",
      "\n"
     ]
    }
   ],
   "source": [
    "print(classification_report(real_lbls, predicted_lbls, zero_division=0))"
   ]
  },
  {
   "cell_type": "code",
   "execution_count": 26,
   "metadata": {},
   "outputs": [
    {
     "data": {
      "text/plain": [
       "<sklearn.metrics._plot.confusion_matrix.ConfusionMatrixDisplay at 0x1e71397e7d0>"
      ]
     },
     "execution_count": 26,
     "metadata": {},
     "output_type": "execute_result"
    },
    {
     "data": {
      "image/png": "[encoded data removed]",
      "text/plain": [
       "<Figure size 432x288 with 2 Axes>"
      ]
     },
     "metadata": {
      "needs_background": "light"
     },
     "output_type": "display_data"
    }
   ],
   "source": [
    "ConfusionMatrixDisplay.from_predictions(real_lbls, predicted_lbls, cmap='YlGnBu')"
   ]
  },
  {
   "attachments": {},
   "cell_type": "markdown",
   "metadata": {},
   "source": [
    "### Test\n",
    "\n",
    "Testing sul vero test set fornito da EvalITA"
   ]
  },
  {
   "cell_type": "code",
   "execution_count": 27,
   "metadata": {},
   "outputs": [
    {
     "name": "stdout",
     "output_type": "stream",
     "text": [
      "              precision    recall  f1-score   support\n",
      "\n",
      "           0       0.63      0.68      0.65       437\n",
      "           1       0.65      0.59      0.62       435\n",
      "\n",
      "    accuracy                           0.64       872\n",
      "   macro avg       0.64      0.64      0.63       872\n",
      "weighted avg       0.64      0.64      0.63       872\n",
      "\n"
     ]
    }
   ],
   "source": [
    "test_predictions = ksvc.predict(test_set)\n",
    "print(classification_report(ts_labels, test_predictions, zero_division=0))"
   ]
  },
  {
   "cell_type": "code",
   "execution_count": 28,
   "metadata": {},
   "outputs": [
    {
     "data": {
      "text/plain": [
       "<sklearn.metrics._plot.confusion_matrix.ConfusionMatrixDisplay at 0x1e710060250>"
      ]
     },
     "execution_count": 28,
     "metadata": {},
     "output_type": "execute_result"
    },
    {
     "data": {
      "image/png": "[encoded data removed]",
      "text/plain": [
       "<Figure size 432x288 with 2 Axes>"
      ]
     },
     "metadata": {
      "needs_background": "light"
     },
     "output_type": "display_data"
    }
   ],
   "source": [
    "ConfusionMatrixDisplay.from_predictions(ts_labels, test_predictions, cmap='YlGnBu')"
   ]
  },
  {
   "cell_type": "code",
   "execution_count": 29,
   "metadata": {},
   "outputs": [
    {
     "name": "stdout",
     "output_type": "stream",
     "text": [
      "------------------------------BASELINE-----------------------------\n",
      "\n",
      "              precision    recall  f1-score   support\n",
      "\n",
      "           0       0.00      0.00      0.00       437\n",
      "           1       0.50      1.00      0.67       435\n",
      "\n",
      "    accuracy                           0.50       872\n",
      "   macro avg       0.25      0.50      0.33       872\n",
      "weighted avg       0.25      0.50      0.33       872\n",
      "\n"
     ]
    }
   ],
   "source": [
    "#si confrontano gli score con quelli di una baseline\n",
    "baseline = DummyClassifier(strategy=\"most_frequent\")\n",
    "baseline.fit(training_set, tr_labels)\n",
    "dummy_preds = baseline.predict(test_set)\n",
    "print(\"------------------------------BASELINE-----------------------------\\n\")\n",
    "print(classification_report(ts_labels, dummy_preds, zero_division=0))"
   ]
  },
  {
   "attachments": {},
   "cell_type": "markdown",
   "metadata": {},
   "source": [
    "### Feature importance"
   ]
  },
  {
   "cell_type": "code",
   "execution_count": 30,
   "metadata": {},
   "outputs": [],
   "source": [
    "import matplotlib.pyplot as plt"
   ]
  },
  {
   "cell_type": "code",
   "execution_count": 40,
   "metadata": {},
   "outputs": [
    {
     "name": "stdout",
     "output_type": "stream",
     "text": [
      "Feature importance\n"
     ]
    },
    {
     "data": {
      "image/png": "[encoded data removed]",
      "text/plain": [
       "<Figure size 1080x720 with 1 Axes>"
      ]
     },
     "metadata": {
      "needs_background": "light"
     },
     "output_type": "display_data"
    }
   ],
   "source": [
    "coefs = ksvc.coef_[0]\n",
    "feature_imp = {feature_name: coef for feature_name, coef in zip(feature_names, coefs)}\n",
    "feature_imp = dict(sorted(feature_imp.items(), key=lambda item: item[1], reverse=True))\n",
    "\n",
    "print(f'Feature importance')\n",
    "plt.figure(figsize=[15,10])\n",
    "plt.barh(range(15), list(feature_imp.values())[:15], align='center')\n",
    "plt.yticks(range(15), list(feature_imp.keys())[:15])\n",
    "plt.show()"
   ]
  },
  {
   "cell_type": "code",
   "execution_count": null,
   "metadata": {},
   "outputs": [],
   "source": []
  }
 ],
 "metadata": {
  "kernelspec": {
   "display_name": "Python 3",
   "language": "python",
   "name": "python3"
  },
  "language_info": {
   "codemirror_mode": {
    "name": "ipython",
    "version": 3
   },
   "file_extension": ".py",
   "mimetype": "text/x-python",
   "name": "python",
   "nbconvert_exporter": "python",
   "pygments_lexer": "ipython3",
   "version": "3.10.2"
  },
  "orig_nbformat": 4
 },
 "nbformat": 4,
 "nbformat_minor": 2
}
