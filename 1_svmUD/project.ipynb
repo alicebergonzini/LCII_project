{
 "cells": [
  {
   "attachments": {},
   "cell_type": "markdown",
   "metadata": {},
   "source": [
    "# 1. CLASSIFICATORE SVM CON INPUT DI PROFILING UD: \n",
    "\n",
    "classificatore basato su SVM lineari che prende in input una rappresentazione del testo basata solo su informazioni linguistiche non lessicali estratte utilizzando il sistema Profiling-UD\n",
    "\n",
    "***"
   ]
  },
  {
   "attachments": {},
   "cell_type": "markdown",
   "metadata": {},
   "source": [
    "### Pre-processing per Profiling UD\n",
    "\n",
    "Per ottenere le features da Profiling UD è necessario fare del pre-processing sul dataset per fare in modo da avere per ogni sample del dataset un file txt."
   ]
  },
  {
   "cell_type": "code",
   "execution_count": 205,
   "metadata": {},
   "outputs": [],
   "source": [
    "import pandas as pd"
   ]
  },
  {
   "cell_type": "code",
   "execution_count": 206,
   "metadata": {},
   "outputs": [],
   "source": [
    "#vediamo un po' cos'abbiamo come training e test set\n",
    "training_set = pd.read_csv(\"../data/training_ironita2018_anon_REV_.csv\", sep=\";\")\n",
    "test_set = pd.read_csv(\"../data/test_gold_ironita2018_anon_REV_.csv\", sep=\";\")"
   ]
  },
  {
   "cell_type": "code",
   "execution_count": 207,
   "metadata": {},
   "outputs": [
    {
     "data": {
      "text/html": [
       "<div>\n",
       "<style scoped>\n",
       "    .dataframe tbody tr th:only-of-type {\n",
       "        vertical-align: middle;\n",
       "    }\n",
       "\n",
       "    .dataframe tbody tr th {\n",
       "        vertical-align: top;\n",
       "    }\n",
       "\n",
       "    .dataframe thead th {\n",
       "        text-align: right;\n",
       "    }\n",
       "</style>\n",
       "<table border=\"1\" class=\"dataframe\">\n",
       "  <thead>\n",
       "    <tr style=\"text-align: right;\">\n",
       "      <th></th>\n",
       "      <th>id</th>\n",
       "      <th>text</th>\n",
       "      <th>irony</th>\n",
       "      <th>sarcasm</th>\n",
       "      <th>topic</th>\n",
       "    </tr>\n",
       "  </thead>\n",
       "  <tbody>\n",
       "    <tr>\n",
       "      <th>0</th>\n",
       "      <td>811156813181841408</td>\n",
       "      <td>Zurigo, trovato morto il presunto autore della...</td>\n",
       "      <td>0</td>\n",
       "      <td>0</td>\n",
       "      <td>HSC</td>\n",
       "    </tr>\n",
       "    <tr>\n",
       "      <th>1</th>\n",
       "      <td>811183087350595584</td>\n",
       "      <td>Zurigo, trovato morto il presunto autore della...</td>\n",
       "      <td>0</td>\n",
       "      <td>0</td>\n",
       "      <td>HSC</td>\n",
       "    </tr>\n",
       "    <tr>\n",
       "      <th>2</th>\n",
       "      <td>826380632376881152</td>\n",
       "      <td>Zingari..i soliti \"MERDOSI\"..#cacciamolivia Ro...</td>\n",
       "      <td>0</td>\n",
       "      <td>0</td>\n",
       "      <td>HSC</td>\n",
       "    </tr>\n",
       "    <tr>\n",
       "      <th>3</th>\n",
       "      <td>844871171350802432</td>\n",
       "      <td>Zingari di merda,tutti al muro...bastardi Spar...</td>\n",
       "      <td>0</td>\n",
       "      <td>0</td>\n",
       "      <td>HSC</td>\n",
       "    </tr>\n",
       "    <tr>\n",
       "      <th>4</th>\n",
       "      <td>509712824361570304</td>\n",
       "      <td>zero notizie decreto #tfaordinario II ciclo ze...</td>\n",
       "      <td>1</td>\n",
       "      <td>0</td>\n",
       "      <td>TW-BS</td>\n",
       "    </tr>\n",
       "  </tbody>\n",
       "</table>\n",
       "</div>"
      ],
      "text/plain": [
       "                   id                                               text  \\\n",
       "0  811156813181841408  Zurigo, trovato morto il presunto autore della...   \n",
       "1  811183087350595584  Zurigo, trovato morto il presunto autore della...   \n",
       "2  826380632376881152  Zingari..i soliti \"MERDOSI\"..#cacciamolivia Ro...   \n",
       "3  844871171350802432  Zingari di merda,tutti al muro...bastardi Spar...   \n",
       "4  509712824361570304  zero notizie decreto #tfaordinario II ciclo ze...   \n",
       "\n",
       "   irony  sarcasm  topic  \n",
       "0      0        0    HSC  \n",
       "1      0        0    HSC  \n",
       "2      0        0    HSC  \n",
       "3      0        0    HSC  \n",
       "4      1        0  TW-BS  "
      ]
     },
     "execution_count": 207,
     "metadata": {},
     "output_type": "execute_result"
    }
   ],
   "source": [
    "training_set.head()"
   ]
  },
  {
   "cell_type": "code",
   "execution_count": 208,
   "metadata": {},
   "outputs": [
    {
     "data": {
      "text/html": [
       "<div>\n",
       "<style scoped>\n",
       "    .dataframe tbody tr th:only-of-type {\n",
       "        vertical-align: middle;\n",
       "    }\n",
       "\n",
       "    .dataframe tbody tr th {\n",
       "        vertical-align: top;\n",
       "    }\n",
       "\n",
       "    .dataframe thead th {\n",
       "        text-align: right;\n",
       "    }\n",
       "</style>\n",
       "<table border=\"1\" class=\"dataframe\">\n",
       "  <thead>\n",
       "    <tr style=\"text-align: right;\">\n",
       "      <th></th>\n",
       "      <th>id</th>\n",
       "      <th>text</th>\n",
       "      <th>irony</th>\n",
       "      <th>sarcasm</th>\n",
       "      <th>topic</th>\n",
       "    </tr>\n",
       "  </thead>\n",
       "  <tbody>\n",
       "    <tr>\n",
       "      <th>0</th>\n",
       "      <td>595524450503815168</td>\n",
       "      <td>-Prendere i libri in copisteria-Fare la spesa-...</td>\n",
       "      <td>1</td>\n",
       "      <td>0</td>\n",
       "      <td>TWITA</td>\n",
       "    </tr>\n",
       "    <tr>\n",
       "      <th>1</th>\n",
       "      <td>578468106504433665</td>\n",
       "      <td>...comunque con una crociera Costa se non ti a...</td>\n",
       "      <td>1</td>\n",
       "      <td>0</td>\n",
       "      <td>HSC</td>\n",
       "    </tr>\n",
       "    <tr>\n",
       "      <th>2</th>\n",
       "      <td>577791521174466560</td>\n",
       "      <td>“&lt;MENTION_1&gt; Ogni ragazza: \\\"non sono una raga...</td>\n",
       "      <td>1</td>\n",
       "      <td>1</td>\n",
       "      <td>TWITA</td>\n",
       "    </tr>\n",
       "    <tr>\n",
       "      <th>3</th>\n",
       "      <td>507464919303069697</td>\n",
       "      <td>“La buona scuola”? Fa gli errori di grammatica...</td>\n",
       "      <td>0</td>\n",
       "      <td>0</td>\n",
       "      <td>TW-BS</td>\n",
       "    </tr>\n",
       "    <tr>\n",
       "      <th>4</th>\n",
       "      <td>839896135619727362</td>\n",
       "      <td>“Vi hanno sfrattato? Andate al campo rom in un...</td>\n",
       "      <td>0</td>\n",
       "      <td>0</td>\n",
       "      <td>HSC</td>\n",
       "    </tr>\n",
       "  </tbody>\n",
       "</table>\n",
       "</div>"
      ],
      "text/plain": [
       "                   id                                               text  \\\n",
       "0  595524450503815168  -Prendere i libri in copisteria-Fare la spesa-...   \n",
       "1  578468106504433665  ...comunque con una crociera Costa se non ti a...   \n",
       "2  577791521174466560  “<MENTION_1> Ogni ragazza: \\\"non sono una raga...   \n",
       "3  507464919303069697  “La buona scuola”? Fa gli errori di grammatica...   \n",
       "4  839896135619727362  “Vi hanno sfrattato? Andate al campo rom in un...   \n",
       "\n",
       "   irony  sarcasm  topic  \n",
       "0      1        0  TWITA  \n",
       "1      1        0    HSC  \n",
       "2      1        1  TWITA  \n",
       "3      0        0  TW-BS  \n",
       "4      0        0    HSC  "
      ]
     },
     "execution_count": 208,
     "metadata": {},
     "output_type": "execute_result"
    }
   ],
   "source": [
    "test_set.head()"
   ]
  },
  {
   "cell_type": "code",
   "execution_count": 209,
   "metadata": {},
   "outputs": [],
   "source": [
    "#funzione che trasforma ogni sample in un documento txt\n",
    "def transform(df, set_type):\n",
    "    for index,row in df.iterrows():\n",
    "        filename = f'profiling_input/{set_type}#{row[\"id\"]}#{row[\"irony\"]}#{row[\"sarcasm\"]}#{row[\"topic\"]}.txt'\n",
    "        with open(filename, 'w', encoding='utf-8') as single_file:\n",
    "            single_file.write(row[\"text\"]) \n",
    "\n",
    "transform(training_set, \"training\")\n",
    "transform(test_set, \"test\")"
   ]
  },
  {
   "attachments": {},
   "cell_type": "markdown",
   "metadata": {},
   "source": [
    "Una volta ottenuti i singoli documenti corrispondenti ai singoli sample del dataset, questi vengono passati a profiling UD.\n",
    "Questo restituirà un nuovo dataset (formato csv) con un insieme di features basate sulla profilazione dei testi (x es. lunghezza delle frasi ecc.).\n"
   ]
  },
  {
   "attachments": {},
   "cell_type": "markdown",
   "metadata": {},
   "source": [
    "### Pre-processing per modello SVM \n",
    "\n",
    "In questa sezione viene caricato il dataset restituito da profiling UD e vengono eseguiti una serie di procedimenti per la standardizzazione e normalizzazione dei dati, così da poter poi essere passati al modello SVM"
   ]
  },
  {
   "cell_type": "code",
   "execution_count": 210,
   "metadata": {},
   "outputs": [],
   "source": [
    "from sklearn.preprocessing import MinMaxScaler"
   ]
  },
  {
   "cell_type": "code",
   "execution_count": 211,
   "metadata": {},
   "outputs": [
    {
     "data": {
      "text/html": [
       "<div>\n",
       "<style scoped>\n",
       "    .dataframe tbody tr th:only-of-type {\n",
       "        vertical-align: middle;\n",
       "    }\n",
       "\n",
       "    .dataframe tbody tr th {\n",
       "        vertical-align: top;\n",
       "    }\n",
       "\n",
       "    .dataframe thead th {\n",
       "        text-align: right;\n",
       "    }\n",
       "</style>\n",
       "<table border=\"1\" class=\"dataframe\">\n",
       "  <thead>\n",
       "    <tr style=\"text-align: right;\">\n",
       "      <th></th>\n",
       "      <th>Filename</th>\n",
       "      <th>n_sentences</th>\n",
       "      <th>n_tokens</th>\n",
       "      <th>tokens_per_sent</th>\n",
       "      <th>char_per_tok</th>\n",
       "      <th>upos_dist_ADJ</th>\n",
       "      <th>upos_dist_ADP</th>\n",
       "      <th>upos_dist_ADV</th>\n",
       "      <th>upos_dist_AUX</th>\n",
       "      <th>upos_dist_CCONJ</th>\n",
       "      <th>...</th>\n",
       "      <th>principal_proposition_dist</th>\n",
       "      <th>subordinate_proposition_dist</th>\n",
       "      <th>subordinate_post</th>\n",
       "      <th>subordinate_pre</th>\n",
       "      <th>avg_subordinate_chain_len</th>\n",
       "      <th>subordinate_dist_1</th>\n",
       "      <th>subordinate_dist_2</th>\n",
       "      <th>subordinate_dist_3</th>\n",
       "      <th>subordinate_dist_4</th>\n",
       "      <th>subordinate_dist_5</th>\n",
       "    </tr>\n",
       "  </thead>\n",
       "  <tbody>\n",
       "    <tr>\n",
       "      <th>0</th>\n",
       "      <td>training#799528852410265600#1#1#HSC.conllu</td>\n",
       "      <td>1</td>\n",
       "      <td>19</td>\n",
       "      <td>19.0</td>\n",
       "      <td>5.250000</td>\n",
       "      <td>10.526316</td>\n",
       "      <td>5.263158</td>\n",
       "      <td>0.000000</td>\n",
       "      <td>0.000000</td>\n",
       "      <td>5.263158</td>\n",
       "      <td>...</td>\n",
       "      <td>100.000000</td>\n",
       "      <td>0.000000</td>\n",
       "      <td>0.0</td>\n",
       "      <td>0.0</td>\n",
       "      <td>0.0</td>\n",
       "      <td>0.0</td>\n",
       "      <td>0.0</td>\n",
       "      <td>0.0</td>\n",
       "      <td>0.0</td>\n",
       "      <td>0.0</td>\n",
       "    </tr>\n",
       "    <tr>\n",
       "      <th>1</th>\n",
       "      <td>training#808400282107445250#0#0#HSC.conllu</td>\n",
       "      <td>2</td>\n",
       "      <td>15</td>\n",
       "      <td>7.5</td>\n",
       "      <td>7.230769</td>\n",
       "      <td>0.000000</td>\n",
       "      <td>13.333333</td>\n",
       "      <td>0.000000</td>\n",
       "      <td>0.000000</td>\n",
       "      <td>0.000000</td>\n",
       "      <td>...</td>\n",
       "      <td>0.000000</td>\n",
       "      <td>0.000000</td>\n",
       "      <td>0.0</td>\n",
       "      <td>0.0</td>\n",
       "      <td>0.0</td>\n",
       "      <td>0.0</td>\n",
       "      <td>0.0</td>\n",
       "      <td>0.0</td>\n",
       "      <td>0.0</td>\n",
       "      <td>0.0</td>\n",
       "    </tr>\n",
       "    <tr>\n",
       "      <th>2</th>\n",
       "      <td>training#553992006671024129#1#1#HSC.conllu</td>\n",
       "      <td>1</td>\n",
       "      <td>14</td>\n",
       "      <td>14.0</td>\n",
       "      <td>4.571429</td>\n",
       "      <td>21.428571</td>\n",
       "      <td>14.285714</td>\n",
       "      <td>0.000000</td>\n",
       "      <td>7.142857</td>\n",
       "      <td>7.142857</td>\n",
       "      <td>...</td>\n",
       "      <td>100.000000</td>\n",
       "      <td>0.000000</td>\n",
       "      <td>0.0</td>\n",
       "      <td>0.0</td>\n",
       "      <td>0.0</td>\n",
       "      <td>0.0</td>\n",
       "      <td>0.0</td>\n",
       "      <td>0.0</td>\n",
       "      <td>0.0</td>\n",
       "      <td>0.0</td>\n",
       "    </tr>\n",
       "    <tr>\n",
       "      <th>3</th>\n",
       "      <td>training#531752278152462336#1#0#TW-BS.conllu</td>\n",
       "      <td>2</td>\n",
       "      <td>12</td>\n",
       "      <td>6.0</td>\n",
       "      <td>6.181818</td>\n",
       "      <td>0.000000</td>\n",
       "      <td>8.333333</td>\n",
       "      <td>0.000000</td>\n",
       "      <td>0.000000</td>\n",
       "      <td>8.333333</td>\n",
       "      <td>...</td>\n",
       "      <td>100.000000</td>\n",
       "      <td>0.000000</td>\n",
       "      <td>0.0</td>\n",
       "      <td>0.0</td>\n",
       "      <td>0.0</td>\n",
       "      <td>0.0</td>\n",
       "      <td>0.0</td>\n",
       "      <td>0.0</td>\n",
       "      <td>0.0</td>\n",
       "      <td>0.0</td>\n",
       "    </tr>\n",
       "    <tr>\n",
       "      <th>4</th>\n",
       "      <td>training#507259632075542528#1#1#TW-BS.conllu</td>\n",
       "      <td>2</td>\n",
       "      <td>26</td>\n",
       "      <td>13.0</td>\n",
       "      <td>4.680000</td>\n",
       "      <td>7.692308</td>\n",
       "      <td>19.230769</td>\n",
       "      <td>7.692308</td>\n",
       "      <td>3.846154</td>\n",
       "      <td>0.000000</td>\n",
       "      <td>...</td>\n",
       "      <td>66.666667</td>\n",
       "      <td>33.333333</td>\n",
       "      <td>100.0</td>\n",
       "      <td>0.0</td>\n",
       "      <td>1.0</td>\n",
       "      <td>100.0</td>\n",
       "      <td>0.0</td>\n",
       "      <td>0.0</td>\n",
       "      <td>0.0</td>\n",
       "      <td>0.0</td>\n",
       "    </tr>\n",
       "  </tbody>\n",
       "</table>\n",
       "<p>5 rows × 134 columns</p>\n",
       "</div>"
      ],
      "text/plain": [
       "                                       Filename  n_sentences  n_tokens  \\\n",
       "0    training#799528852410265600#1#1#HSC.conllu            1        19   \n",
       "1    training#808400282107445250#0#0#HSC.conllu            2        15   \n",
       "2    training#553992006671024129#1#1#HSC.conllu            1        14   \n",
       "3  training#531752278152462336#1#0#TW-BS.conllu            2        12   \n",
       "4  training#507259632075542528#1#1#TW-BS.conllu            2        26   \n",
       "\n",
       "   tokens_per_sent  char_per_tok  upos_dist_ADJ  upos_dist_ADP  upos_dist_ADV  \\\n",
       "0             19.0      5.250000      10.526316       5.263158       0.000000   \n",
       "1              7.5      7.230769       0.000000      13.333333       0.000000   \n",
       "2             14.0      4.571429      21.428571      14.285714       0.000000   \n",
       "3              6.0      6.181818       0.000000       8.333333       0.000000   \n",
       "4             13.0      4.680000       7.692308      19.230769       7.692308   \n",
       "\n",
       "   upos_dist_AUX  upos_dist_CCONJ  ...  principal_proposition_dist  \\\n",
       "0       0.000000         5.263158  ...                  100.000000   \n",
       "1       0.000000         0.000000  ...                    0.000000   \n",
       "2       7.142857         7.142857  ...                  100.000000   \n",
       "3       0.000000         8.333333  ...                  100.000000   \n",
       "4       3.846154         0.000000  ...                   66.666667   \n",
       "\n",
       "   subordinate_proposition_dist  subordinate_post  subordinate_pre  \\\n",
       "0                      0.000000               0.0              0.0   \n",
       "1                      0.000000               0.0              0.0   \n",
       "2                      0.000000               0.0              0.0   \n",
       "3                      0.000000               0.0              0.0   \n",
       "4                     33.333333             100.0              0.0   \n",
       "\n",
       "   avg_subordinate_chain_len  subordinate_dist_1  subordinate_dist_2  \\\n",
       "0                        0.0                 0.0                 0.0   \n",
       "1                        0.0                 0.0                 0.0   \n",
       "2                        0.0                 0.0                 0.0   \n",
       "3                        0.0                 0.0                 0.0   \n",
       "4                        1.0               100.0                 0.0   \n",
       "\n",
       "   subordinate_dist_3  subordinate_dist_4  subordinate_dist_5  \n",
       "0                 0.0                 0.0                 0.0  \n",
       "1                 0.0                 0.0                 0.0  \n",
       "2                 0.0                 0.0                 0.0  \n",
       "3                 0.0                 0.0                 0.0  \n",
       "4                 0.0                 0.0                 0.0  \n",
       "\n",
       "[5 rows x 134 columns]"
      ]
     },
     "execution_count": 211,
     "metadata": {},
     "output_type": "execute_result"
    }
   ],
   "source": [
    "UD_dataset = pd.read_csv(\"profiling_output/7075.csv\", sep=\"\\t\")\n",
    "UD_dataset.head()"
   ]
  },
  {
   "cell_type": "code",
   "execution_count": 212,
   "metadata": {},
   "outputs": [],
   "source": [
    "#funzione per aggiungere al dataframe una colonna con le labels\n",
    "def get_labels(x, label_name):\n",
    "    splitted = x.split(\"#\")\n",
    "    if label_name == \"irony\":\n",
    "        return splitted[2]\n",
    "    elif label_name == \"sarcasm\":\n",
    "        return splitted[3]"
   ]
  },
  {
   "cell_type": "code",
   "execution_count": 213,
   "metadata": {},
   "outputs": [],
   "source": [
    "#funzione per aggiungere al dataframe una colonna che identifica train o test\n",
    "def traintest(x):\n",
    "    splitted = x.split(\"#\")\n",
    "    if splitted[0]==\"training\":\n",
    "        return \"training\"\n",
    "    else:\n",
    "        return \"test\"\n",
    "    "
   ]
  },
  {
   "cell_type": "code",
   "execution_count": 214,
   "metadata": {},
   "outputs": [],
   "source": [
    "#si aggiungono le colonne per l'ironia, il sarcasmo e il tipo (training o test) del sample\n",
    "UD_dataset[\"label_irony\"] = UD_dataset[\"Filename\"].apply(get_labels, label_name = \"irony\")\n",
    "UD_dataset[\"label_sarcasm\"] = UD_dataset[\"Filename\"].apply(get_labels, label_name = \"sarcasm\")\n",
    "UD_dataset[\"type\"] = UD_dataset[\"Filename\"].apply(traintest)"
   ]
  },
  {
   "cell_type": "code",
   "execution_count": 215,
   "metadata": {},
   "outputs": [
    {
     "data": {
      "text/html": [
       "<div>\n",
       "<style scoped>\n",
       "    .dataframe tbody tr th:only-of-type {\n",
       "        vertical-align: middle;\n",
       "    }\n",
       "\n",
       "    .dataframe tbody tr th {\n",
       "        vertical-align: top;\n",
       "    }\n",
       "\n",
       "    .dataframe thead th {\n",
       "        text-align: right;\n",
       "    }\n",
       "</style>\n",
       "<table border=\"1\" class=\"dataframe\">\n",
       "  <thead>\n",
       "    <tr style=\"text-align: right;\">\n",
       "      <th></th>\n",
       "      <th>Filename</th>\n",
       "      <th>n_sentences</th>\n",
       "      <th>n_tokens</th>\n",
       "      <th>tokens_per_sent</th>\n",
       "      <th>char_per_tok</th>\n",
       "      <th>upos_dist_ADJ</th>\n",
       "      <th>upos_dist_ADP</th>\n",
       "      <th>upos_dist_ADV</th>\n",
       "      <th>upos_dist_AUX</th>\n",
       "      <th>upos_dist_CCONJ</th>\n",
       "      <th>...</th>\n",
       "      <th>subordinate_pre</th>\n",
       "      <th>avg_subordinate_chain_len</th>\n",
       "      <th>subordinate_dist_1</th>\n",
       "      <th>subordinate_dist_2</th>\n",
       "      <th>subordinate_dist_3</th>\n",
       "      <th>subordinate_dist_4</th>\n",
       "      <th>subordinate_dist_5</th>\n",
       "      <th>label_irony</th>\n",
       "      <th>label_sarcasm</th>\n",
       "      <th>type</th>\n",
       "    </tr>\n",
       "  </thead>\n",
       "  <tbody>\n",
       "    <tr>\n",
       "      <th>0</th>\n",
       "      <td>training#799528852410265600#1#1#HSC.conllu</td>\n",
       "      <td>1</td>\n",
       "      <td>19</td>\n",
       "      <td>19.0</td>\n",
       "      <td>5.250000</td>\n",
       "      <td>10.526316</td>\n",
       "      <td>5.263158</td>\n",
       "      <td>0.000000</td>\n",
       "      <td>0.000000</td>\n",
       "      <td>5.263158</td>\n",
       "      <td>...</td>\n",
       "      <td>0.0</td>\n",
       "      <td>0.0</td>\n",
       "      <td>0.0</td>\n",
       "      <td>0.0</td>\n",
       "      <td>0.0</td>\n",
       "      <td>0.0</td>\n",
       "      <td>0.0</td>\n",
       "      <td>1</td>\n",
       "      <td>1</td>\n",
       "      <td>training</td>\n",
       "    </tr>\n",
       "    <tr>\n",
       "      <th>1</th>\n",
       "      <td>training#808400282107445250#0#0#HSC.conllu</td>\n",
       "      <td>2</td>\n",
       "      <td>15</td>\n",
       "      <td>7.5</td>\n",
       "      <td>7.230769</td>\n",
       "      <td>0.000000</td>\n",
       "      <td>13.333333</td>\n",
       "      <td>0.000000</td>\n",
       "      <td>0.000000</td>\n",
       "      <td>0.000000</td>\n",
       "      <td>...</td>\n",
       "      <td>0.0</td>\n",
       "      <td>0.0</td>\n",
       "      <td>0.0</td>\n",
       "      <td>0.0</td>\n",
       "      <td>0.0</td>\n",
       "      <td>0.0</td>\n",
       "      <td>0.0</td>\n",
       "      <td>0</td>\n",
       "      <td>0</td>\n",
       "      <td>training</td>\n",
       "    </tr>\n",
       "    <tr>\n",
       "      <th>2</th>\n",
       "      <td>training#553992006671024129#1#1#HSC.conllu</td>\n",
       "      <td>1</td>\n",
       "      <td>14</td>\n",
       "      <td>14.0</td>\n",
       "      <td>4.571429</td>\n",
       "      <td>21.428571</td>\n",
       "      <td>14.285714</td>\n",
       "      <td>0.000000</td>\n",
       "      <td>7.142857</td>\n",
       "      <td>7.142857</td>\n",
       "      <td>...</td>\n",
       "      <td>0.0</td>\n",
       "      <td>0.0</td>\n",
       "      <td>0.0</td>\n",
       "      <td>0.0</td>\n",
       "      <td>0.0</td>\n",
       "      <td>0.0</td>\n",
       "      <td>0.0</td>\n",
       "      <td>1</td>\n",
       "      <td>1</td>\n",
       "      <td>training</td>\n",
       "    </tr>\n",
       "    <tr>\n",
       "      <th>3</th>\n",
       "      <td>training#531752278152462336#1#0#TW-BS.conllu</td>\n",
       "      <td>2</td>\n",
       "      <td>12</td>\n",
       "      <td>6.0</td>\n",
       "      <td>6.181818</td>\n",
       "      <td>0.000000</td>\n",
       "      <td>8.333333</td>\n",
       "      <td>0.000000</td>\n",
       "      <td>0.000000</td>\n",
       "      <td>8.333333</td>\n",
       "      <td>...</td>\n",
       "      <td>0.0</td>\n",
       "      <td>0.0</td>\n",
       "      <td>0.0</td>\n",
       "      <td>0.0</td>\n",
       "      <td>0.0</td>\n",
       "      <td>0.0</td>\n",
       "      <td>0.0</td>\n",
       "      <td>1</td>\n",
       "      <td>0</td>\n",
       "      <td>training</td>\n",
       "    </tr>\n",
       "    <tr>\n",
       "      <th>4</th>\n",
       "      <td>training#507259632075542528#1#1#TW-BS.conllu</td>\n",
       "      <td>2</td>\n",
       "      <td>26</td>\n",
       "      <td>13.0</td>\n",
       "      <td>4.680000</td>\n",
       "      <td>7.692308</td>\n",
       "      <td>19.230769</td>\n",
       "      <td>7.692308</td>\n",
       "      <td>3.846154</td>\n",
       "      <td>0.000000</td>\n",
       "      <td>...</td>\n",
       "      <td>0.0</td>\n",
       "      <td>1.0</td>\n",
       "      <td>100.0</td>\n",
       "      <td>0.0</td>\n",
       "      <td>0.0</td>\n",
       "      <td>0.0</td>\n",
       "      <td>0.0</td>\n",
       "      <td>1</td>\n",
       "      <td>1</td>\n",
       "      <td>training</td>\n",
       "    </tr>\n",
       "  </tbody>\n",
       "</table>\n",
       "<p>5 rows × 137 columns</p>\n",
       "</div>"
      ],
      "text/plain": [
       "                                       Filename  n_sentences  n_tokens  \\\n",
       "0    training#799528852410265600#1#1#HSC.conllu            1        19   \n",
       "1    training#808400282107445250#0#0#HSC.conllu            2        15   \n",
       "2    training#553992006671024129#1#1#HSC.conllu            1        14   \n",
       "3  training#531752278152462336#1#0#TW-BS.conllu            2        12   \n",
       "4  training#507259632075542528#1#1#TW-BS.conllu            2        26   \n",
       "\n",
       "   tokens_per_sent  char_per_tok  upos_dist_ADJ  upos_dist_ADP  upos_dist_ADV  \\\n",
       "0             19.0      5.250000      10.526316       5.263158       0.000000   \n",
       "1              7.5      7.230769       0.000000      13.333333       0.000000   \n",
       "2             14.0      4.571429      21.428571      14.285714       0.000000   \n",
       "3              6.0      6.181818       0.000000       8.333333       0.000000   \n",
       "4             13.0      4.680000       7.692308      19.230769       7.692308   \n",
       "\n",
       "   upos_dist_AUX  upos_dist_CCONJ  ...  subordinate_pre  \\\n",
       "0       0.000000         5.263158  ...              0.0   \n",
       "1       0.000000         0.000000  ...              0.0   \n",
       "2       7.142857         7.142857  ...              0.0   \n",
       "3       0.000000         8.333333  ...              0.0   \n",
       "4       3.846154         0.000000  ...              0.0   \n",
       "\n",
       "   avg_subordinate_chain_len  subordinate_dist_1  subordinate_dist_2  \\\n",
       "0                        0.0                 0.0                 0.0   \n",
       "1                        0.0                 0.0                 0.0   \n",
       "2                        0.0                 0.0                 0.0   \n",
       "3                        0.0                 0.0                 0.0   \n",
       "4                        1.0               100.0                 0.0   \n",
       "\n",
       "   subordinate_dist_3  subordinate_dist_4  subordinate_dist_5  label_irony  \\\n",
       "0                 0.0                 0.0                 0.0            1   \n",
       "1                 0.0                 0.0                 0.0            0   \n",
       "2                 0.0                 0.0                 0.0            1   \n",
       "3                 0.0                 0.0                 0.0            1   \n",
       "4                 0.0                 0.0                 0.0            1   \n",
       "\n",
       "   label_sarcasm      type  \n",
       "0              1  training  \n",
       "1              0  training  \n",
       "2              1  training  \n",
       "3              0  training  \n",
       "4              1  training  \n",
       "\n",
       "[5 rows x 137 columns]"
      ]
     },
     "execution_count": 215,
     "metadata": {},
     "output_type": "execute_result"
    }
   ],
   "source": [
    "UD_dataset.head()"
   ]
  },
  {
   "cell_type": "code",
   "execution_count": 216,
   "metadata": {},
   "outputs": [],
   "source": [
    "training_df = UD_dataset.loc[UD_dataset[\"type\"]==\"training\"]\n",
    "test_df = UD_dataset.loc[UD_dataset[\"type\"]==\"test\"]"
   ]
  },
  {
   "cell_type": "code",
   "execution_count": 217,
   "metadata": {},
   "outputs": [],
   "source": [
    "#creazione della lista delle feature per ogni esempio, sia train che test\n",
    "feature_names = UD_dataset.columns.to_list()[1:-3]\n",
    "training_set = []\n",
    "test_set = []\n",
    "for index, row in UD_dataset.iterrows():\n",
    "    feature_vals = []\n",
    "    for feature in feature_names:\n",
    "        feature_vals.append(row[feature])\n",
    "    if row[\"type\"]==\"training\":\n",
    "        training_set.append(feature_vals)\n",
    "    else:\n",
    "        test_set.append(feature_vals)"
   ]
  },
  {
   "cell_type": "code",
   "execution_count": 218,
   "metadata": {},
   "outputs": [],
   "source": [
    "tr_labels_irony = training_df[\"label_irony\"].to_list()\n",
    "tr_labels_sarcasm = training_df[\"label_sarcasm\"].to_list()\n",
    "ts_labels_irony = test_df[\"label_irony\"].to_list()\n",
    "ts_labels_sarcasm = test_df[\"label_sarcasm\"].to_list()"
   ]
  },
  {
   "cell_type": "code",
   "execution_count": 219,
   "metadata": {},
   "outputs": [
    {
     "name": "stdout",
     "output_type": "stream",
     "text": [
      "Training: 3977\n",
      "Test: 872\n",
      "Numero feature: 133\n"
     ]
    }
   ],
   "source": [
    "#contiamo i sample per training e test, e il numero di feature\n",
    "print(f'Training: {len(training_set)}')\n",
    "print(f'Test: {len(test_set)}')\n",
    "print(f'Numero feature: {len(feature_names)}')"
   ]
  },
  {
   "cell_type": "code",
   "execution_count": 220,
   "metadata": {},
   "outputs": [
    {
     "name": "stdout",
     "output_type": "stream",
     "text": [
      "I valori sono stati trasformati in valori tra 0 e 1: \n",
      " [0.         0.47222222 0.5        0.17821782 0.21052632 0.15037594\n",
      " 0.         0.         0.26315789 0.39473684 0.         0.21052632\n",
      " 0.19736842 0.         0.15789474 0.19736842 0.         0.\n",
      " 0.14736842 0.         0.48863636 1.         0.         0.\n",
      " 0.         0.         0.         1.         0.         1.\n",
      " 0.         0.         0.         0.         0.         0.\n",
      " 0.         0.         1.         0.         0.         0.\n",
      " 0.         0.         0.         0.         0.         0.\n",
      " 0.         0.         0.         0.         0.         0.\n",
      " 0.         0.         0.         0.14285714 1.         0.83333333\n",
      " 0.         0.         0.         0.         0.         1.\n",
      " 0.         0.27272727 0.52777778 0.33333333 0.22686567 0.32142857\n",
      " 0.         0.         0.         0.         0.         0.\n",
      " 0.         1.         1.         0.         0.         0.\n",
      " 0.         0.         0.21052632 0.         0.         0.\n",
      " 0.15037594 0.26315789 0.         0.         0.15789474 0.\n",
      " 0.         0.31578947 0.47368421 0.         0.         0.\n",
      " 0.         0.         0.         0.         0.30263158 0.\n",
      " 0.         0.         0.         0.11278195 0.22807018 0.\n",
      " 0.         0.47368421 0.42105263 0.         0.         0.19736842\n",
      " 0.05263158 0.         0.         1.         0.         0.\n",
      " 0.         0.         0.         0.         0.         0.\n",
      " 0.        ]\n"
     ]
    }
   ],
   "source": [
    "#scaling dei valori delle features\n",
    "scaler = MinMaxScaler()\n",
    "training_set = scaler.fit_transform(training_set)\n",
    "test_set = scaler.fit_transform(test_set)\n",
    "print(\"I valori sono stati trasformati in valori tra 0 e 1: \\n\" , training_set[0])"
   ]
  },
  {
   "attachments": {},
   "cell_type": "markdown",
   "metadata": {},
   "source": [
    "### Training \n",
    "\n",
    "In questa sezione si procede a fare l'allenamento del modello SVM lineare. \n",
    "Si allena sia sulle label dell'ironia che del sarcasmo. Si testano, poi, gli score di accuratezza sul training set per avere un'idea di come si comporta il classificatore con un semplice ciclo di training (senza validation)."
   ]
  },
  {
   "cell_type": "code",
   "execution_count": 221,
   "metadata": {},
   "outputs": [],
   "source": [
    "from sklearn.svm import LinearSVC\n",
    "from sklearn.metrics import classification_report, ConfusionMatrixDisplay, confusion_matrix"
   ]
  },
  {
   "cell_type": "code",
   "execution_count": 222,
   "metadata": {},
   "outputs": [
    {
     "data": {
      "text/plain": [
       "<sklearn.metrics._plot.confusion_matrix.ConfusionMatrixDisplay at 0x23b6f8bf7f0>"
      ]
     },
     "execution_count": 222,
     "metadata": {},
     "output_type": "execute_result"
    },
    {
     "data": {
      "image/png": "[encoded data removed]",
      "text/plain": [
       "<Figure size 432x288 with 2 Axes>"
      ]
     },
     "metadata": {
      "needs_background": "light"
     },
     "output_type": "display_data"
    }
   ],
   "source": [
    "#numero feature < del numero di sample, quindi usare dual = False\n",
    "irony_svc = LinearSVC(dual=False)\n",
    "irony_svc.fit(training_set, tr_labels_irony) \n",
    "irony_predictions = irony_svc.predict(training_set)\n",
    "ConfusionMatrixDisplay.from_predictions(tr_labels_irony, irony_predictions, cmap='Blues')"
   ]
  },
  {
   "cell_type": "code",
   "execution_count": 223,
   "metadata": {},
   "outputs": [
    {
     "name": "stdout",
     "output_type": "stream",
     "text": [
      "              precision    recall  f1-score   support\n",
      "\n",
      "           0       0.68      0.62      0.65      1954\n",
      "           1       0.66      0.72      0.69      2023\n",
      "\n",
      "    accuracy                           0.67      3977\n",
      "   macro avg       0.67      0.67      0.67      3977\n",
      "weighted avg       0.67      0.67      0.67      3977\n",
      "\n"
     ]
    }
   ],
   "source": [
    "print(classification_report(tr_labels_irony, irony_predictions)) # output_dict=True"
   ]
  },
  {
   "cell_type": "code",
   "execution_count": 224,
   "metadata": {},
   "outputs": [
    {
     "data": {
      "text/plain": [
       "<sklearn.metrics._plot.confusion_matrix.ConfusionMatrixDisplay at 0x23b4caa05b0>"
      ]
     },
     "execution_count": 224,
     "metadata": {},
     "output_type": "execute_result"
    },
    {
     "data": {
      "image/png": "[encoded data removed]",
      "text/plain": [
       "<Figure size 432x288 with 2 Axes>"
      ]
     },
     "metadata": {
      "needs_background": "light"
     },
     "output_type": "display_data"
    }
   ],
   "source": [
    "sarcasm_svc = LinearSVC(dual=False)\n",
    "sarcasm_svc.fit(training_set, tr_labels_sarcasm)\n",
    "sarcasm_predictions = sarcasm_svc.predict(training_set)\n",
    "ConfusionMatrixDisplay.from_predictions(tr_labels_sarcasm, sarcasm_predictions, cmap='Blues')"
   ]
  },
  {
   "cell_type": "code",
   "execution_count": 225,
   "metadata": {},
   "outputs": [
    {
     "name": "stdout",
     "output_type": "stream",
     "text": [
      "              precision    recall  f1-score   support\n",
      "\n",
      "           0       0.68      0.62      0.65      1954\n",
      "           1       0.66      0.72      0.69      2023\n",
      "\n",
      "    accuracy                           0.67      3977\n",
      "   macro avg       0.67      0.67      0.67      3977\n",
      "weighted avg       0.67      0.67      0.67      3977\n",
      "\n"
     ]
    }
   ],
   "source": [
    "print(classification_report(tr_labels_irony, irony_predictions)) # output_dict=True"
   ]
  },
  {
   "attachments": {},
   "cell_type": "markdown",
   "metadata": {},
   "source": [
    "Notiamo come nel caso del sarcasmo il modello attribuisce a una gran parte di sample la label 0. Possiamo ipotizzare che all'interno del training set ci sia uno sbilanciamento di esempi. Probabilmente gli esempi etichettati con 0 sono più di quelli etichettati con 1."
   ]
  },
  {
   "cell_type": "code",
   "execution_count": 226,
   "metadata": {},
   "outputs": [
    {
     "data": {
      "text/plain": [
       "1    2458\n",
       "0    2391\n",
       "Name: label_irony, dtype: int64"
      ]
     },
     "execution_count": 226,
     "metadata": {},
     "output_type": "execute_result"
    }
   ],
   "source": [
    "UD_dataset[\"label_irony\"].value_counts()"
   ]
  },
  {
   "attachments": {},
   "cell_type": "markdown",
   "metadata": {},
   "source": [
    "Notiamo che nel caso dell'ironia il numero di esempi etichettati con 0 e quelli etichettati con 1 sono abbastanza bilanciati."
   ]
  },
  {
   "cell_type": "code",
   "execution_count": 227,
   "metadata": {},
   "outputs": [
    {
     "data": {
      "text/plain": [
       "0    3720\n",
       "1    1129\n",
       "Name: label_sarcasm, dtype: int64"
      ]
     },
     "execution_count": 227,
     "metadata": {},
     "output_type": "execute_result"
    }
   ],
   "source": [
    "UD_dataset[\"label_sarcasm\"].value_counts()"
   ]
  },
  {
   "attachments": {},
   "cell_type": "markdown",
   "metadata": {},
   "source": [
    "Nel caso, invece del sarcasmo, esiste effettivamente uno sbilanciamento vero lo 0, portando il nostro modello a predire molto più spesso lo 0."
   ]
  },
  {
   "attachments": {},
   "cell_type": "markdown",
   "metadata": {},
   "source": [
    "### Validation"
   ]
  },
  {
   "cell_type": "code",
   "execution_count": 228,
   "metadata": {},
   "outputs": [],
   "source": [
    "from sklearn.metrics import accuracy_score\n",
    "from sklearn.model_selection import KFold\n",
    "from sklearn.dummy import DummyClassifier\n",
    "import numpy as np"
   ]
  },
  {
   "cell_type": "code",
   "execution_count": 229,
   "metadata": {},
   "outputs": [
    {
     "name": "stdout",
     "output_type": "stream",
     "text": [
      "-------------------------Fold n.1 just started!-------------------------\n",
      "---> Prediction dell'IRONIA: \n",
      "Accuracy del modello: 0.6494974874371859\n",
      "Accuracy della baseline: 0.5213567839195979\n",
      "---> Prediction del SARCASMO: \n",
      "Accuracy del modello: 0.7713567839195979\n",
      "Accuracy della baseline: 0.7738693467336684\n",
      "-------------------------Fold n.2 just started!-------------------------\n",
      "---> Prediction dell'IRONIA: \n",
      "Accuracy del modello: 0.5979899497487438\n",
      "Accuracy della baseline: 0.507537688442211\n",
      "---> Prediction del SARCASMO: \n",
      "Accuracy del modello: 0.7839195979899497\n",
      "Accuracy della baseline: 0.785175879396985\n",
      "-------------------------Fold n.3 just started!-------------------------\n",
      "---> Prediction dell'IRONIA: \n",
      "Accuracy del modello: 0.6352201257861635\n",
      "Accuracy della baseline: 0.4716981132075472\n",
      "---> Prediction del SARCASMO: \n",
      "Accuracy del modello: 0.7849056603773585\n",
      "Accuracy della baseline: 0.7924528301886793\n",
      "-------------------------Fold n.4 just started!-------------------------\n",
      "---> Prediction dell'IRONIA: \n",
      "Accuracy del modello: 0.610062893081761\n",
      "Accuracy della baseline: 0.539622641509434\n",
      "---> Prediction del SARCASMO: \n",
      "Accuracy del modello: 0.7396226415094339\n",
      "Accuracy della baseline: 0.740880503144654\n",
      "-------------------------Fold n.5 just started!-------------------------\n",
      "---> Prediction dell'IRONIA: \n",
      "Accuracy del modello: 0.640251572327044\n",
      "Accuracy della baseline: 0.5031446540880503\n",
      "---> Prediction del SARCASMO: \n",
      "Accuracy del modello: 0.7471698113207547\n",
      "Accuracy della baseline: 0.759748427672956\n"
     ]
    }
   ],
   "source": [
    "splitter = KFold(n_splits=5, random_state=42, shuffle=True)\n",
    "folds = list(splitter.split(training_set))\n",
    "\n",
    "\n",
    "tr_labels_irony=np.asarray(tr_labels_irony)\n",
    "tr_labels_sarcasm=np.asarray(tr_labels_sarcasm)\n",
    "i=1\n",
    "real_lbls_irony = []\n",
    "predicted_lbls_irony = []\n",
    "real_lbls_sarcasm = []\n",
    "predicted_lbls_sarcasm = []\n",
    "\n",
    "for fold in folds:\n",
    "    print(f'-------------------------Fold n.{i} just started!-------------------------')\n",
    "    #si creano i set per ogni fold, training e test\n",
    "    train_index = fold[0]\n",
    "    test_index = fold[1]\n",
    "    #train set\n",
    "    x_train = training_set[train_index]\n",
    "    y_train_irony = tr_labels_irony[train_index]\n",
    "    y_train_sarcasm = tr_labels_sarcasm[train_index]\n",
    "    #test set\n",
    "    x_test = training_set[test_index]\n",
    "    y_test_irony = tr_labels_irony[test_index]\n",
    "    y_test_sarcasm = tr_labels_sarcasm[test_index]\n",
    "    #inizio del training\n",
    "    ksvc_irony = LinearSVC(dual=False)\n",
    "    ksvc_sarcasm = LinearSVC(dual=False)\n",
    "    ksvc_irony.fit(x_train, y_train_irony)\n",
    "    ksvc_sarcasm.fit(x_train, y_train_sarcasm)\n",
    "    #predictions\n",
    "    pred_irony = ksvc_irony.predict(x_test)\n",
    "    acc_irony = accuracy_score(y_test_irony, pred_irony)\n",
    "    pred_sarcasm = ksvc_sarcasm.predict(x_test)\n",
    "    acc_sarcasm = accuracy_score(y_test_sarcasm, pred_sarcasm)\n",
    "    #usiamo un Dummy Classifier come Baseline\n",
    "    dummyIrony = DummyClassifier(strategy=\"most_frequent\")\n",
    "    dummySarcasm = DummyClassifier(strategy=\"most_frequent\")\n",
    "    dummyIrony.fit(x_train, y_train_irony)\n",
    "    dummySarcasm.fit(x_train, y_train_sarcasm)\n",
    "    dummy_acc_irony = dummyIrony.score(x_test, y_test_irony)\n",
    "    dummy_acc_sarcasm = dummySarcasm.score(x_test, y_test_sarcasm)\n",
    "    real_lbls_irony+=y_test_irony.tolist()\n",
    "    predicted_lbls_irony+=pred_irony.tolist()\n",
    "    real_lbls_sarcasm+=y_test_sarcasm.tolist()\n",
    "    predicted_lbls_sarcasm+=pred_sarcasm.tolist()\n",
    "    print(\"---> Prediction dell'IRONIA: \")\n",
    "    print(f\"Accuracy del modello: {acc_irony}\\nAccuracy della baseline: {dummy_acc_irony}\")\n",
    "    print(\"---> Prediction del SARCASMO: \")\n",
    "    print(f\"Accuracy del modello: {acc_sarcasm}\\nAccuracy della baseline: {dummy_acc_sarcasm}\")\n",
    "    i+=1\n",
    "        "
   ]
  },
  {
   "cell_type": "code",
   "execution_count": 230,
   "metadata": {},
   "outputs": [],
   "source": [
    "real_lbls_irony=list(real_lbls_irony)\n",
    "predicted_lbls_irony=list(predicted_lbls_irony)"
   ]
  },
  {
   "cell_type": "code",
   "execution_count": 231,
   "metadata": {},
   "outputs": [
    {
     "name": "stdout",
     "output_type": "stream",
     "text": [
      "              precision    recall  f1-score   support\n",
      "\n",
      "           0       0.63      0.58      0.60      1954\n",
      "           1       0.62      0.67      0.65      2023\n",
      "\n",
      "    accuracy                           0.63      3977\n",
      "   macro avg       0.63      0.63      0.63      3977\n",
      "weighted avg       0.63      0.63      0.63      3977\n",
      "\n"
     ]
    }
   ],
   "source": [
    "print(classification_report(real_lbls_irony, predicted_lbls_irony, zero_division=0))"
   ]
  },
  {
   "cell_type": "code",
   "execution_count": 232,
   "metadata": {},
   "outputs": [
    {
     "name": "stdout",
     "output_type": "stream",
     "text": [
      "              precision    recall  f1-score   support\n",
      "\n",
      "           0       0.77      0.99      0.87      3064\n",
      "           1       0.32      0.02      0.04       913\n",
      "\n",
      "    accuracy                           0.77      3977\n",
      "   macro avg       0.55      0.50      0.45      3977\n",
      "weighted avg       0.67      0.77      0.68      3977\n",
      "\n"
     ]
    }
   ],
   "source": [
    "print(classification_report(real_lbls_sarcasm, predicted_lbls_sarcasm, zero_division=0))"
   ]
  },
  {
   "cell_type": "code",
   "execution_count": 233,
   "metadata": {},
   "outputs": [
    {
     "data": {
      "text/plain": [
       "<sklearn.metrics._plot.confusion_matrix.ConfusionMatrixDisplay at 0x23b6f9708b0>"
      ]
     },
     "execution_count": 233,
     "metadata": {},
     "output_type": "execute_result"
    },
    {
     "data": {
      "image/png": "[encoded data removed]",
      "text/plain": [
       "<Figure size 432x288 with 2 Axes>"
      ]
     },
     "metadata": {
      "needs_background": "light"
     },
     "output_type": "display_data"
    }
   ],
   "source": [
    "ConfusionMatrixDisplay.from_predictions(real_lbls_irony, predicted_lbls_irony, cmap='YlGnBu')"
   ]
  },
  {
   "cell_type": "code",
   "execution_count": 234,
   "metadata": {},
   "outputs": [
    {
     "data": {
      "text/plain": [
       "<sklearn.metrics._plot.confusion_matrix.ConfusionMatrixDisplay at 0x23b6f9700a0>"
      ]
     },
     "execution_count": 234,
     "metadata": {},
     "output_type": "execute_result"
    },
    {
     "data": {
      "image/png": "[encoded data removed]",
      "text/plain": [
       "<Figure size 432x288 with 2 Axes>"
      ]
     },
     "metadata": {
      "needs_background": "light"
     },
     "output_type": "display_data"
    }
   ],
   "source": [
    "ConfusionMatrixDisplay.from_predictions(real_lbls_sarcasm, predicted_lbls_sarcasm, cmap='YlGnBu')"
   ]
  },
  {
   "attachments": {},
   "cell_type": "markdown",
   "metadata": {},
   "source": [
    "### Test\n",
    "\n",
    "Testing sul vero test set fornito da EvalITA"
   ]
  },
  {
   "cell_type": "code",
   "execution_count": 235,
   "metadata": {},
   "outputs": [
    {
     "name": "stdout",
     "output_type": "stream",
     "text": [
      "              precision    recall  f1-score   support\n",
      "\n",
      "           0       0.59      0.73      0.65       437\n",
      "           1       0.64      0.49      0.56       435\n",
      "\n",
      "    accuracy                           0.61       872\n",
      "   macro avg       0.62      0.61      0.61       872\n",
      "weighted avg       0.62      0.61      0.61       872\n",
      "\n"
     ]
    }
   ],
   "source": [
    "test_irony_predictions = irony_svc.predict(test_set)\n",
    "print(classification_report(ts_labels_irony, test_irony_predictions, zero_division=0))"
   ]
  },
  {
   "cell_type": "code",
   "execution_count": 236,
   "metadata": {},
   "outputs": [
    {
     "name": "stdout",
     "output_type": "stream",
     "text": [
      "              precision    recall  f1-score   support\n",
      "\n",
      "           0       0.75      0.99      0.86       656\n",
      "           1       0.30      0.01      0.03       216\n",
      "\n",
      "    accuracy                           0.75       872\n",
      "   macro avg       0.53      0.50      0.44       872\n",
      "weighted avg       0.64      0.75      0.65       872\n",
      "\n"
     ]
    }
   ],
   "source": [
    "test_sarcasm_predictions = sarcasm_svc.predict(test_set)\n",
    "print(classification_report(ts_labels_sarcasm, test_sarcasm_predictions, zero_division=0))"
   ]
  },
  {
   "cell_type": "code",
   "execution_count": 237,
   "metadata": {},
   "outputs": [
    {
     "data": {
      "text/plain": [
       "<sklearn.metrics._plot.confusion_matrix.ConfusionMatrixDisplay at 0x23b6f9313f0>"
      ]
     },
     "execution_count": 237,
     "metadata": {},
     "output_type": "execute_result"
    },
    {
     "data": {
      "image/png": "[encoded data removed]",
      "text/plain": [
       "<Figure size 432x288 with 2 Axes>"
      ]
     },
     "metadata": {
      "needs_background": "light"
     },
     "output_type": "display_data"
    }
   ],
   "source": [
    "ConfusionMatrixDisplay.from_predictions(ts_labels_irony, test_irony_predictions, cmap='YlGnBu')"
   ]
  },
  {
   "cell_type": "code",
   "execution_count": 238,
   "metadata": {},
   "outputs": [
    {
     "data": {
      "text/plain": [
       "<sklearn.metrics._plot.confusion_matrix.ConfusionMatrixDisplay at 0x23b6f957430>"
      ]
     },
     "execution_count": 238,
     "metadata": {},
     "output_type": "execute_result"
    },
    {
     "data": {
      "image/png": "[encoded data removed]",
      "text/plain": [
       "<Figure size 432x288 with 2 Axes>"
      ]
     },
     "metadata": {
      "needs_background": "light"
     },
     "output_type": "display_data"
    }
   ],
   "source": [
    "ConfusionMatrixDisplay.from_predictions(ts_labels_sarcasm, test_sarcasm_predictions, cmap='YlGnBu')"
   ]
  },
  {
   "cell_type": "code",
   "execution_count": 239,
   "metadata": {},
   "outputs": [
    {
     "name": "stdout",
     "output_type": "stream",
     "text": [
      "------------------------------IRONIA-----------------------------\n",
      "\n",
      "              precision    recall  f1-score   support\n",
      "\n",
      "           0       0.00      0.00      0.00       437\n",
      "           1       0.50      1.00      0.67       435\n",
      "\n",
      "    accuracy                           0.50       872\n",
      "   macro avg       0.25      0.50      0.33       872\n",
      "weighted avg       0.25      0.50      0.33       872\n",
      "\n",
      "------------------------------SARCASMO-----------------------------\n",
      "\n",
      "              precision    recall  f1-score   support\n",
      "\n",
      "           0       0.75      1.00      0.86       656\n",
      "           1       0.00      0.00      0.00       216\n",
      "\n",
      "    accuracy                           0.75       872\n",
      "   macro avg       0.38      0.50      0.43       872\n",
      "weighted avg       0.57      0.75      0.65       872\n",
      "\n"
     ]
    }
   ],
   "source": [
    "#si confrontano gli score con quelli di una baseline\n",
    "baseline_irony = DummyClassifier(strategy=\"most_frequent\")\n",
    "baseline_sarcasm = DummyClassifier(strategy=\"most_frequent\")\n",
    "baseline_irony.fit(training_set, tr_labels_irony)\n",
    "baseline_sarcasm.fit(training_set, tr_labels_sarcasm)\n",
    "dummy_irony_preds = baseline_irony.predict(test_set)\n",
    "dummy_sarcasm_preds = baseline_sarcasm.predict(test_set)\n",
    "print(\"------------------------------IRONIA-----------------------------\\n\")\n",
    "print(classification_report(ts_labels_irony, dummy_irony_preds, zero_division=0))\n",
    "print(\"------------------------------SARCASMO-----------------------------\\n\")\n",
    "print(classification_report(ts_labels_sarcasm, dummy_sarcasm_preds, zero_division=0))"
   ]
  },
  {
   "attachments": {},
   "cell_type": "markdown",
   "metadata": {},
   "source": [
    "### Feature importance"
   ]
  },
  {
   "cell_type": "code",
   "execution_count": 248,
   "metadata": {},
   "outputs": [],
   "source": [
    "import matplotlib.pyplot as plt"
   ]
  },
  {
   "cell_type": "code",
   "execution_count": 249,
   "metadata": {},
   "outputs": [
    {
     "name": "stdout",
     "output_type": "stream",
     "text": [
      "Feature importance\n"
     ]
    },
    {
     "data": {
      "image/png": "[encoded data removed]",
      "text/plain": [
       "<Figure size 720x504 with 1 Axes>"
      ]
     },
     "metadata": {
      "needs_background": "light"
     },
     "output_type": "display_data"
    }
   ],
   "source": [
    "coefs = irony_svc.coef_[0]\n",
    "feature_imp = {feature_name: coef for feature_name, coef in zip(feature_names, coefs)}\n",
    "feature_imp = dict(sorted(feature_imp.items(), key=lambda item: item[1], reverse=True))\n",
    "\n",
    "print(f'Feature importance')\n",
    "plt.figure(figsize=[10,7])\n",
    "plt.barh(range(15), list(feature_imp.values())[:15], align='center')\n",
    "plt.yticks(range(15), list(feature_imp.keys())[:15])\n",
    "plt.show()"
   ]
  },
  {
   "cell_type": "code",
   "execution_count": null,
   "metadata": {},
   "outputs": [],
   "source": []
  }
 ],
 "metadata": {
  "kernelspec": {
   "display_name": "Python 3",
   "language": "python",
   "name": "python3"
  },
  "language_info": {
   "codemirror_mode": {
    "name": "ipython",
    "version": 3
   },
   "file_extension": ".py",
   "mimetype": "text/x-python",
   "name": "python",
   "nbconvert_exporter": "python",
   "pygments_lexer": "ipython3",
   "version": "3.10.2"
  },
  "orig_nbformat": 4
 },
 "nbformat": 4,
 "nbformat_minor": 2
}
