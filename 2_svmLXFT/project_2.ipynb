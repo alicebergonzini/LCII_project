{
 "cells": [
  {
   "attachments": {},
   "cell_type": "markdown",
   "metadata": {},
   "source": [
    "# 2. CLASSIFICATORE LINEARE SVM CON INPUT DI N-GRAMMI\n",
    "\n",
    "Classificatore basato su  SVM che prende in input una matrice di features basata su n-grammi di 3 tipi:\n",
    "1. Caratteri\n",
    "2. Token\n",
    "3. Part of Speech\n",
    "\n",
    "***"
   ]
  },
  {
   "attachments": {},
   "cell_type": "markdown",
   "metadata": {},
   "source": [
    "### Preprocessing dei dati\n",
    "\n",
    "Dobbiamo ottenere un vettore di features, basato sulle occorrenze di n-grammi all'interno delle frasi, per ciascun post. Come prima cosa si crea si per training che per test un set formato da liste di dizionari. I dizionari riportano per ogni token 3 campi che corrispondono alla parola, la forma lemmatizzata e la parte del discorso. Infine contiamo all'interno dei post le occorrenze degli n-grammi. Una volta ottenuti tutti gli n-grammi possiamo creare la matrice di occorrenze. "
   ]
  },
  {
   "cell_type": "code",
   "execution_count": 1,
   "metadata": {},
   "outputs": [],
   "source": [
    "import pandas as pd\n",
    "import os"
   ]
  },
  {
   "cell_type": "code",
   "execution_count": 2,
   "metadata": {},
   "outputs": [
    {
     "ename": "KeyboardInterrupt",
     "evalue": "",
     "output_type": "error",
     "traceback": [
      "\u001b[1;31m---------------------------------------------------------------------------\u001b[0m",
      "\u001b[1;31mKeyboardInterrupt\u001b[0m                         Traceback (most recent call last)",
      "\u001b[1;32mc:\\Users\\bergo\\Desktop\\Uni\\LCII_Project\\LCII_project\\2_svmLXFT\\project_2.ipynb Cell 4\u001b[0m in \u001b[0;36m<cell line: 19>\u001b[1;34m()\u001b[0m\n\u001b[0;32m     <a href='vscode-notebook-cell:/c%3A/Users/bergo/Desktop/Uni/LCII_Project/LCII_project/2_svmLXFT/project_2.ipynb#W3sZmlsZQ%3D%3D?line=15'>16</a>\u001b[0m             annotated_posts\u001b[39m.\u001b[39mappend(doc_tokens)\n\u001b[0;32m     <a href='vscode-notebook-cell:/c%3A/Users/bergo/Desktop/Uni/LCII_Project/LCII_project/2_svmLXFT/project_2.ipynb#W3sZmlsZQ%3D%3D?line=16'>17</a>\u001b[0m     \u001b[39mreturn\u001b[39;00m annotated_posts\n\u001b[1;32m---> <a href='vscode-notebook-cell:/c%3A/Users/bergo/Desktop/Uni/LCII_Project/LCII_project/2_svmLXFT/project_2.ipynb#W3sZmlsZQ%3D%3D?line=18'>19</a>\u001b[0m annotation_tr \u001b[39m=\u001b[39m create_set(\u001b[39m\"\u001b[39;49m\u001b[39mtraining\u001b[39;49m\u001b[39m\"\u001b[39;49m)\n\u001b[0;32m     <a href='vscode-notebook-cell:/c%3A/Users/bergo/Desktop/Uni/LCII_Project/LCII_project/2_svmLXFT/project_2.ipynb#W3sZmlsZQ%3D%3D?line=19'>20</a>\u001b[0m annotation_ts \u001b[39m=\u001b[39m create_set(\u001b[39m\"\u001b[39m\u001b[39mtest\u001b[39m\u001b[39m\"\u001b[39m)\n",
      "\u001b[1;32mc:\\Users\\bergo\\Desktop\\Uni\\LCII_Project\\LCII_project\\2_svmLXFT\\project_2.ipynb Cell 4\u001b[0m in \u001b[0;36mcreate_set\u001b[1;34m(type)\u001b[0m\n\u001b[0;32m      <a href='vscode-notebook-cell:/c%3A/Users/bergo/Desktop/Uni/LCII_Project/LCII_project/2_svmLXFT/project_2.ipynb#W3sZmlsZQ%3D%3D?line=5'>6</a>\u001b[0m doc_tokens \u001b[39m=\u001b[39m []\n\u001b[0;32m      <a href='vscode-notebook-cell:/c%3A/Users/bergo/Desktop/Uni/LCII_Project/LCII_project/2_svmLXFT/project_2.ipynb#W3sZmlsZQ%3D%3D?line=6'>7</a>\u001b[0m doc_path \u001b[39m=\u001b[39m \u001b[39m\"\u001b[39m\u001b[39m../data/UD_annotation/\u001b[39m\u001b[39m\"\u001b[39m \u001b[39m+\u001b[39m doc\n\u001b[1;32m----> <a href='vscode-notebook-cell:/c%3A/Users/bergo/Desktop/Uni/LCII_Project/LCII_project/2_svmLXFT/project_2.ipynb#W3sZmlsZQ%3D%3D?line=7'>8</a>\u001b[0m \u001b[39mfor\u001b[39;00m line \u001b[39min\u001b[39;00m \u001b[39mopen\u001b[39;49m(doc_path, \u001b[39m\"\u001b[39;49m\u001b[39mr\u001b[39;49m\u001b[39m\"\u001b[39;49m, encoding\u001b[39m=\u001b[39;49m\u001b[39m\"\u001b[39;49m\u001b[39mutf-8\u001b[39;49m\u001b[39m\"\u001b[39;49m):\n\u001b[0;32m      <a href='vscode-notebook-cell:/c%3A/Users/bergo/Desktop/Uni/LCII_Project/LCII_project/2_svmLXFT/project_2.ipynb#W3sZmlsZQ%3D%3D?line=8'>9</a>\u001b[0m     splitted \u001b[39m=\u001b[39m line\u001b[39m.\u001b[39mstrip()\u001b[39m.\u001b[39msplit(\u001b[39m\"\u001b[39m\u001b[39m\\t\u001b[39;00m\u001b[39m\"\u001b[39m)\n\u001b[0;32m     <a href='vscode-notebook-cell:/c%3A/Users/bergo/Desktop/Uni/LCII_Project/LCII_project/2_svmLXFT/project_2.ipynb#W3sZmlsZQ%3D%3D?line=9'>10</a>\u001b[0m     \u001b[39mif\u001b[39;00m splitted[\u001b[39m0\u001b[39m]\u001b[39m.\u001b[39misdigit() \u001b[39mand\u001b[39;00m \u001b[39m\"\u001b[39m\u001b[39m-\u001b[39m\u001b[39m\"\u001b[39m \u001b[39mnot\u001b[39;00m \u001b[39min\u001b[39;00m splitted[\u001b[39m0\u001b[39m]:\n",
      "File \u001b[1;32mc:\\Users\\bergo\\AppData\\Local\\Programs\\Python\\Python310\\lib\\codecs.py:309\u001b[0m, in \u001b[0;36mBufferedIncrementalDecoder.__init__\u001b[1;34m(self, errors)\u001b[0m\n\u001b[0;32m    303\u001b[0m \u001b[39mclass\u001b[39;00m \u001b[39mBufferedIncrementalDecoder\u001b[39;00m(IncrementalDecoder):\n\u001b[0;32m    304\u001b[0m     \u001b[39m\"\"\"\u001b[39;00m\n\u001b[0;32m    305\u001b[0m \u001b[39m    This subclass of IncrementalDecoder can be used as the baseclass for an\u001b[39;00m\n\u001b[0;32m    306\u001b[0m \u001b[39m    incremental decoder if the decoder must be able to handle incomplete\u001b[39;00m\n\u001b[0;32m    307\u001b[0m \u001b[39m    byte sequences.\u001b[39;00m\n\u001b[0;32m    308\u001b[0m \u001b[39m    \"\"\"\u001b[39;00m\n\u001b[1;32m--> 309\u001b[0m     \u001b[39mdef\u001b[39;00m \u001b[39m__init__\u001b[39m(\u001b[39mself\u001b[39m, errors\u001b[39m=\u001b[39m\u001b[39m'\u001b[39m\u001b[39mstrict\u001b[39m\u001b[39m'\u001b[39m):\n\u001b[0;32m    310\u001b[0m         IncrementalDecoder\u001b[39m.\u001b[39m\u001b[39m__init__\u001b[39m(\u001b[39mself\u001b[39m, errors)\n\u001b[0;32m    311\u001b[0m         \u001b[39m# undecoded input that is kept between calls to decode()\u001b[39;00m\n",
      "\u001b[1;31mKeyboardInterrupt\u001b[0m: "
     ]
    }
   ],
   "source": [
    "#creiamo un dizionario che abbia 3 campi: word, lemma e part of speech(pos)\n",
    "def create_set(type):\n",
    "    annotated_posts = []\n",
    "    for doc in os.listdir(\"../data/UD_annotation\"):\n",
    "        if type in doc: \n",
    "            doc_tokens = []\n",
    "            doc_path = \"../data/UD_annotation/\" + doc\n",
    "            for line in open(doc_path, \"r\", encoding=\"utf-8\"):\n",
    "                splitted = line.strip().split(\"\\t\")\n",
    "                if splitted[0].isdigit() and \"-\" not in splitted[0]:\n",
    "                    word=splitted[1]\n",
    "                    lemma=splitted[2]\n",
    "                    pos=splitted[3]\n",
    "                    new_token = {'word': word, 'lemma': lemma, 'pos': pos}\n",
    "                    doc_tokens.append(new_token)\n",
    "            annotated_posts.append(doc_tokens)\n",
    "    return annotated_posts\n",
    "\n",
    "annotation_tr = create_set(\"training\")\n",
    "annotation_ts = create_set(\"test\")\n"
   ]
  },
  {
   "cell_type": "code",
   "execution_count": null,
   "metadata": {},
   "outputs": [],
   "source": [
    "#funzione che estrae le labels dal nome del file\n",
    "def create_labels(type):\n",
    "    labels = []\n",
    "    for doc in os.listdir(\"../data/UD_annotation\"):\n",
    "        if type in doc: \n",
    "            splitted = doc.split(\"#\")\n",
    "            irony = splitted[2]\n",
    "            labels.append(irony)\n",
    "    return labels\n",
    "        "
   ]
  },
  {
   "cell_type": "code",
   "execution_count": null,
   "metadata": {},
   "outputs": [
    {
     "name": "stdout",
     "output_type": "stream",
     "text": [
      "Training: 3977\n",
      "Test: 872\n"
     ]
    }
   ],
   "source": [
    "#contiamo il numero di post(sample) per training e test\n",
    "print(f'Training: {len(annotation_tr)}')\n",
    "print(f'Test: {len(annotation_ts)}')"
   ]
  },
  {
   "cell_type": "code",
   "execution_count": null,
   "metadata": {},
   "outputs": [
    {
     "name": "stdout",
     "output_type": "stream",
     "text": [
      "{'word_2_#la7_ma': 0.05555555555555555, 'word_2_ma_perche': 0.05555555555555555, \"word_2_perche_'\": 0.05555555555555555, \"word_2_'_Mario\": 0.05555555555555555, 'word_2_Mario_Monti': 0.05555555555555555, 'word_2_Monti_non': 0.05555555555555555, 'word_2_non_fa': 0.05555555555555555, 'word_2_fa_il': 0.05555555555555555, 'word_2_il_premier': 0.05555555555555555, 'word_2_premier_?': 0.05555555555555555, 'word_2_?_Che': 0.05555555555555555, 'word_2_Che_persona': 0.05555555555555555, 'word_2_persona_competente': 0.05555555555555555, 'word_2_competente_e': 0.05555555555555555, 'word_2_e_per': 0.05555555555555555, 'word_2_per_bene': 0.05555555555555555, 'word_2_bene_!': 0.05555555555555555}\n"
     ]
    }
   ],
   "source": [
    "#funzione che conta le occorrenze degli ngrammi all'interno di un post\n",
    "def count_ngrams(post, ft_type, n, char=False):\n",
    "    all_ngrams = {}\n",
    "    allwords = []\n",
    "    #se char = True la lista sarà di caratteri, altrimenti sarà di token\n",
    "    if not char:\n",
    "        for word in post:\n",
    "            allwords.append(word[ft_type])\n",
    "        post_length = len(allwords)\n",
    "    else:\n",
    "        for word in post:\n",
    "            allwords.append(word['word'])\n",
    "        allwords = \" \".join(allwords)\n",
    "        post_length = len(allwords)-1\n",
    "    #si da un id agli n-grammi e si contano le occorrenze nel post \n",
    "    for i in range(len(allwords)-(n-1)):\n",
    "        new_ngram = allwords[i:i+n]\n",
    "        if not char:\n",
    "            ngram_id = f'{ft_type}_{n}_'+'_'.join(new_ngram)\n",
    "        else:\n",
    "            ngram_id = f'char_{n}_'+'_'.join(new_ngram)\n",
    "        if ngram_id not in all_ngrams:\n",
    "            all_ngrams[ngram_id] = 1\n",
    "        else:\n",
    "            all_ngrams[ngram_id]+=1\n",
    "    #normalizzare in base alla post_length\n",
    "    for ngram in all_ngrams:\n",
    "        all_ngrams[ngram] = all_ngrams[ngram]/post_length\n",
    "    return all_ngrams\n",
    "\n",
    "print(count_ngrams(annotation_tr[2], \"word\", 2, False))\n",
    "\n"
   ]
  },
  {
   "attachments": {},
   "cell_type": "markdown",
   "metadata": {},
   "source": [
    "Uniamo per ogni tipo di informazione che vogliamo i relativi dizionari, così da avere un dizionario denso di informazioni. \n"
   ]
  },
  {
   "cell_type": "code",
   "execution_count": null,
   "metadata": {},
   "outputs": [
    {
     "name": "stdout",
     "output_type": "stream",
     "text": [
      "{'word_1_Mario': 0.043478260869565216, 'word_1_Monti': 0.043478260869565216, 'word_1_:': 0.043478260869565216, \"word_1_c'\": 0.043478260869565216, 'word_1_è': 0.043478260869565216, 'word_1_il': 0.043478260869565216, 'word_1_rischio...': 0.043478260869565216, 'word_1_di': 0.08695652173913043, 'word_1_trasformare': 0.043478260869565216, \"word_1_l'\": 0.08695652173913043, 'word_1_Italia': 0.043478260869565216, 'word_1_da': 0.043478260869565216, 'word_1_Stato': 0.08695652173913043, 'word_1_fondatore': 0.043478260869565216, 'word_1_in': 0.043478260869565216, 'word_1_affondatore': 0.043478260869565216, 'word_1_Unione': 0.043478260869565216, 'word_1_europea': 0.043478260869565216, 'word_1_!': 0.043478260869565216, 'word_1_<URL>': 0.043478260869565216, 'word_2_Mario_Monti': 0.043478260869565216, 'word_2_Monti_:': 0.043478260869565216, \"word_2_:_c'\": 0.043478260869565216, \"word_2_c'_è\": 0.043478260869565216, 'word_2_è_il': 0.043478260869565216, 'word_2_il_rischio...': 0.043478260869565216, 'word_2_rischio..._di': 0.043478260869565216, 'word_2_di_trasformare': 0.043478260869565216, \"word_2_trasformare_l'\": 0.043478260869565216, \"word_2_l'_Italia\": 0.043478260869565216, 'word_2_Italia_da': 0.043478260869565216, 'word_2_da_Stato': 0.043478260869565216, 'word_2_Stato_fondatore': 0.043478260869565216, 'word_2_fondatore_in': 0.043478260869565216, 'word_2_in_Stato': 0.043478260869565216, 'word_2_Stato_affondatore': 0.043478260869565216, 'word_2_affondatore_di': 0.043478260869565216, \"word_2_di_l'\": 0.043478260869565216, \"word_2_l'_Unione\": 0.043478260869565216, 'word_2_Unione_europea': 0.043478260869565216, 'word_2_europea_!': 0.043478260869565216, 'word_2_!_<URL>': 0.043478260869565216, 'char_1_M': 0.016, 'char_1_a': 0.096, 'char_1_r': 0.064, 'char_1_i': 0.08, 'char_1_o': 0.096, 'char_1_ ': 0.176, 'char_1_n': 0.048, 'char_1_t': 0.072, 'char_1_:': 0.008, 'char_1_c': 0.016, \"char_1_'\": 0.024, 'char_1_è': 0.008, 'char_1_l': 0.032, 'char_1_s': 0.016, 'char_1_h': 0.008, 'char_1_.': 0.024, 'char_1_d': 0.04, 'char_1_f': 0.032, 'char_1_m': 0.008, 'char_1_e': 0.048, 'char_1_I': 0.008, 'char_1_S': 0.016, 'char_1_U': 0.016, 'char_1_u': 0.008, 'char_1_p': 0.008, 'char_1_!': 0.008, 'char_1_<': 0.008, 'char_1_R': 0.008, 'char_1_L': 0.008, 'char_1_>': 0.008, 'char_2_M_a': 0.008, 'char_2_a_r': 0.016, 'char_2_r_i': 0.016, 'char_2_i_o': 0.024, 'char_2_o_ ': 0.024, 'char_2_ _M': 0.008, 'char_2_M_o': 0.008, 'char_2_o_n': 0.032, 'char_2_n_t': 0.008, 'char_2_t_i': 0.008, 'char_2_i_ ': 0.024, 'char_2_ _:': 0.008, 'char_2_:_ ': 0.008, 'char_2_ _c': 0.008, \"char_2_c_'\": 0.008, \"char_2_'_ \": 0.024, 'char_2_ _è': 0.008, 'char_2_è_ ': 0.008, 'char_2_ _i': 0.016, 'char_2_i_l': 0.008, 'char_2_l_ ': 0.008, 'char_2_ _r': 0.008, 'char_2_i_s': 0.008, 'char_2_s_c': 0.008, 'char_2_c_h': 0.008, 'char_2_h_i': 0.008, 'char_2_o_.': 0.008, 'char_2_._.': 0.016, 'char_2_._ ': 0.008, 'char_2_ _d': 0.024, 'char_2_d_i': 0.016, 'char_2_ _t': 0.008, 'char_2_t_r': 0.008, 'char_2_r_a': 0.008, 'char_2_a_s': 0.008, 'char_2_s_f': 0.008, 'char_2_f_o': 0.024, 'char_2_o_r': 0.024, 'char_2_r_m': 0.008, 'char_2_m_a': 0.008, 'char_2_r_e': 0.024, 'char_2_e_ ': 0.032, 'char_2_ _l': 0.016, \"char_2_l_'\": 0.016, 'char_2_ _I': 0.008, 'char_2_I_t': 0.008, 'char_2_t_a': 0.024, 'char_2_a_l': 0.008, 'char_2_l_i': 0.008, 'char_2_i_a': 0.008, 'char_2_a_ ': 0.024, 'char_2_d_a': 0.024, 'char_2_ _S': 0.016, 'char_2_S_t': 0.016, 'char_2_a_t': 0.032, 'char_2_t_o': 0.032, 'char_2_ _f': 0.008, 'char_2_n_d': 0.016, 'char_2_i_n': 0.008, 'char_2_n_ ': 0.008, 'char_2_ _a': 0.008, 'char_2_a_f': 0.008, 'char_2_f_f': 0.008, 'char_2_ _U': 0.008, 'char_2_U_n': 0.008, 'char_2_n_i': 0.008, 'char_2_n_e': 0.008, 'char_2_ _e': 0.008, 'char_2_e_u': 0.008, 'char_2_u_r': 0.008, 'char_2_r_o': 0.008, 'char_2_o_p': 0.008, 'char_2_p_e': 0.008, 'char_2_e_a': 0.008, 'char_2_ _!': 0.008, 'char_2_!_ ': 0.008, 'char_2_ _<': 0.008, 'char_2_<_U': 0.008, 'char_2_U_R': 0.008, 'char_2_R_L': 0.008, 'char_2_L_>': 0.008}\n"
     ]
    }
   ],
   "source": [
    "#funzione che unisce per ogni post i diversi tipi di n-grammi\n",
    "def get_features(dataset, info_types):\n",
    "    all_features = []\n",
    "    for post in dataset: \n",
    "        complete_dict = dict()\n",
    "        for info in info_types:\n",
    "            info_dict = count_ngrams(post, info[0], info[1], info[2])\n",
    "            complete_dict = complete_dict | info_dict\n",
    "        all_features.append(complete_dict)\n",
    "    return all_features\n",
    "\n",
    "#per cambiare tipo di n-grammi cambiare questi parametri\n",
    "infos = [['word', 1, False], ['word', 2, False], ['word', 1, True], ['word', 2, True]]\n",
    "info_description = f'unigrammi parole; bigrammi parole; unigrammi caratteri; bigrammi caratteri;'\n",
    "\n",
    "#si crea la lista di occorrenze di n-grammi per training e test\n",
    "tr_features = get_features(annotation_tr, infos)\n",
    "ts_features = get_features(annotation_ts, infos)\n",
    "\n",
    "print(tr_features[1])\n",
    "    \n",
    "        "
   ]
  },
  {
   "attachments": {},
   "cell_type": "markdown",
   "metadata": {},
   "source": [
    "Per ridurre la dimensionalità della nostra matrice, eliminiamo gli n-grammi che occorrono in un numero di documenti sotto una soglia."
   ]
  },
  {
   "cell_type": "code",
   "execution_count": null,
   "metadata": {},
   "outputs": [],
   "source": [
    "#funzione che estrae la lista di feature presenti all'interno del dataset\n",
    "def get_feature_list(feature_set):\n",
    "    feature_list = []\n",
    "    for post in feature_set:\n",
    "        for feature in post:\n",
    "            if feature not in feature_list:\n",
    "                feature_list.append(feature)\n",
    "    return feature_list"
   ]
  },
  {
   "cell_type": "code",
   "execution_count": null,
   "metadata": {},
   "outputs": [],
   "source": [
    "all_features = get_feature_list(tr_features)"
   ]
  },
  {
   "cell_type": "code",
   "execution_count": null,
   "metadata": {},
   "outputs": [
    {
     "name": "stdout",
     "output_type": "stream",
     "text": [
      "Numero di features prima del filtro: 64468\n",
      "Numero di features dopo il filtro: 7534\n"
     ]
    }
   ],
   "source": [
    "#funzione che ritorna True se le occorrenze sono al di sopra di un valore soglia, e False altrimenti\n",
    "def is_common(feature, feature_set, min_occurrences):\n",
    "    count = 0\n",
    "    for post in feature_set:\n",
    "        if feature in post:\n",
    "            count += 1\n",
    "    if count < min_occurrences:\n",
    "        return False\n",
    "    else:\n",
    "        return True\n",
    "\n",
    "#passiamo la funzione is_common come parametro di filter, così facendo si ottiene una nuova lista di features con solo le features più comuni  \n",
    "filtered_features = list(filter(lambda x: is_common(x, tr_features, 3), all_features))\n",
    "print(f'Numero di features prima del filtro: {len(all_features)}')\n",
    "print(f'Numero di features dopo il filtro: {len(filtered_features)}')"
   ]
  },
  {
   "cell_type": "code",
   "execution_count": null,
   "metadata": {},
   "outputs": [
    {
     "name": "stdout",
     "output_type": "stream",
     "text": [
      "Numero di features per sample non filtrato: 135\n",
      "Numero di features in un sample filtrato: 125\n"
     ]
    }
   ],
   "source": [
    "#funzione che filtra il dataset mantenendo solo gli n-grammi che si trovano nella lista features_to_keep\n",
    "def filter_dataset(dataset, features_tokeep):\n",
    "    for post in dataset:\n",
    "        post_features = list(post.keys())\n",
    "        for feature in post_features:\n",
    "            if feature not in features_tokeep:\n",
    "                post.pop(feature)\n",
    "    return dataset\n",
    "\n",
    "\n",
    "print(f'Numero di features per sample non filtrato: {len(tr_features[10])}')\n",
    "tr_features = filter_dataset(tr_features, filtered_features)\n",
    "print(f'Numero di features in un sample filtrato: {len(tr_features[10])}')\n"
   ]
  },
  {
   "cell_type": "code",
   "execution_count": null,
   "metadata": {},
   "outputs": [],
   "source": [
    "from sklearn.feature_extraction import DictVectorizer\n",
    "from sklearn.preprocessing import MaxAbsScaler\n",
    "from sklearn.svm import LinearSVC\n",
    "\n",
    "\n",
    "\n",
    "#si trasformano i dizionari con le occorrenze degli n-grammi in vettori di features\n",
    "vectorizer = DictVectorizer()\n",
    "tr_set = vectorizer.fit_transform(tr_features)\n",
    "#si scalano i valori\n",
    "scaler = MaxAbsScaler()\n",
    "tr_set = scaler.fit_transform(tr_set)\n",
    "#si \n",
    "tr_labels = create_labels(\"training\")\n"
   ]
  },
  {
   "attachments": {},
   "cell_type": "markdown",
   "metadata": {},
   "source": [
    "### Training e Validation con diversi tipi di informazione\n",
    "\n",
    "Si valutano le diverse tipologie e combinazioni di n-grammi, ognuna con un processo di 5-fold validation."
   ]
  },
  {
   "cell_type": "code",
   "execution_count": null,
   "metadata": {},
   "outputs": [],
   "source": [
    "from sklearn.metrics import accuracy_score\n",
    "from sklearn.model_selection import KFold\n",
    "from sklearn.dummy import DummyClassifier\n",
    "import numpy as np"
   ]
  },
  {
   "cell_type": "code",
   "execution_count": null,
   "metadata": {},
   "outputs": [
    {
     "name": "stdout",
     "output_type": "stream",
     "text": [
      "-------------------------Fold n.1 just started!-------------------------\n",
      "---> test: \n",
      "Accuracy del modello: 0.6846733668341709\n",
      "Accuracy della baseline: 0.5062814070351759\n",
      "-------------------------Fold n.2 just started!-------------------------\n",
      "---> test: \n",
      "Accuracy del modello: 0.6959798994974874\n",
      "Accuracy della baseline: 0.45226130653266333\n",
      "-------------------------Fold n.3 just started!-------------------------\n",
      "---> test: \n",
      "Accuracy del modello: 0.6981132075471698\n",
      "Accuracy della baseline: 0.5031446540880503\n",
      "-------------------------Fold n.4 just started!-------------------------\n",
      "---> test: \n",
      "Accuracy del modello: 0.70062893081761\n",
      "Accuracy della baseline: 0.47924528301886793\n",
      "-------------------------Fold n.5 just started!-------------------------\n",
      "---> test: \n",
      "Accuracy del modello: 0.6918238993710691\n",
      "Accuracy della baseline: 0.5069182389937107\n"
     ]
    },
    {
     "data": {
      "text/plain": [
       "\"\\nwith open('results.txt', 'a') as file:\\n    file.write(f'{info_description}\\n')\\n    for i in range(len(all_acc)):\\n        file.write(f'Risultati Fold {i+1} -->  Accuracy modello: {all_acc[i]} | Accuracy baseline: {all_dummy_acc[i]}  \\n')\\n    file.write(f'Media: {avg(all_acc)}')\\n\""
      ]
     },
     "execution_count": 15,
     "metadata": {},
     "output_type": "execute_result"
    }
   ],
   "source": [
    "#dividiamo per ogni fold in train e validation set\n",
    "splitter = KFold(n_splits=5, random_state=42, shuffle=True)\n",
    "folds = list(splitter.split(tr_set))\n",
    "\n",
    "tr_labels = np.asarray(tr_labels)\n",
    "i=1\n",
    "real_lbls = []\n",
    "predicted = []\n",
    "all_acc = []\n",
    "all_dummy_acc = []\n",
    "\n",
    "#per ogni fold definita\n",
    "for fold in folds:\n",
    "    print(f'-------------------------Fold n.{i} just started!-------------------------')\n",
    "    #si creano i set per ogni fold, training e test\n",
    "    train_index = fold[0]\n",
    "    test_index = fold[1]\n",
    "    #train set\n",
    "    x_train = tr_set[train_index]\n",
    "    y_train = tr_labels[train_index]\n",
    "    #test set\n",
    "    x_test = tr_set[test_index]\n",
    "    y_test = tr_labels[test_index]\n",
    "    #inizio del training\n",
    "    ksvc = LinearSVC(dual=False)\n",
    "    ksvc.fit(x_train, y_train)\n",
    "    #predictions\n",
    "    pred = ksvc.predict(x_test)\n",
    "    acc = accuracy_score(y_test, pred)\n",
    "    #usiamo un Dummy Classifier come Baseline\n",
    "    dummy = DummyClassifier(strategy=\"most_frequent\")\n",
    "    dummy.fit(x_train, y_train)\n",
    "    dummy_acc = dummy.score(x_test, y_test)\n",
    "    real_lbls+=y_test.tolist()\n",
    "    predicted+=pred.tolist()\n",
    "    all_acc.append(acc)\n",
    "    all_dummy_acc.append(dummy_acc)\n",
    "    print(\"---> test: \")\n",
    "    print(f\"Accuracy del modello: {acc}\\nAccuracy della baseline: {dummy_acc}\")\n",
    "    i+=1\n",
    "\n",
    "\n",
    "def avg(x):\n",
    "    return sum(x)/len(x)\n",
    "\n",
    "'''\n",
    "with open('results.txt', 'a') as file:\n",
    "    file.write(f'{info_description}\\n')\n",
    "    for i in range(len(all_acc)):\n",
    "        file.write(f'Risultati Fold {i+1} -->  Accuracy modello: {all_acc[i]} | Accuracy baseline: {all_dummy_acc[i]}  \\n')\n",
    "    file.write(f'Media: {avg(all_acc)}')\n",
    "'''"
   ]
  },
  {
   "attachments": {},
   "cell_type": "markdown",
   "metadata": {},
   "source": [
    "### Test\n",
    "\n",
    "Una volta ottenuta la configurazione di input migliore (con accuratezza più alta), si procede a testare il modello con l'input che ha avuto le migliori prestazioni. In questo caso si tratta di unigrammi e bigrammi di caratteri e unigrammi e bigrammi di parole. "
   ]
  },
  {
   "cell_type": "code",
   "execution_count": null,
   "metadata": {},
   "outputs": [],
   "source": [
    "from sklearn.metrics import classification_report\n",
    "from sklearn.metrics import ConfusionMatrixDisplay"
   ]
  },
  {
   "cell_type": "code",
   "execution_count": null,
   "metadata": {},
   "outputs": [],
   "source": [
    "#si trasformano i dizionari con le occorrenze di n-grammi del test in vettori \n",
    "ts_set = vectorizer.transform(ts_features)\n",
    "ts_set = scaler.transform(ts_set)\n",
    "ts_labels = create_labels(\"test\")\n",
    "\n"
   ]
  },
  {
   "cell_type": "code",
   "execution_count": null,
   "metadata": {},
   "outputs": [
    {
     "name": "stdout",
     "output_type": "stream",
     "text": [
      "              precision    recall  f1-score   support\n",
      "\n",
      "           0       0.68      0.59      0.64       437\n",
      "           1       0.64      0.72      0.68       435\n",
      "\n",
      "    accuracy                           0.66       872\n",
      "   macro avg       0.66      0.66      0.66       872\n",
      "weighted avg       0.66      0.66      0.66       872\n",
      "\n"
     ]
    }
   ],
   "source": [
    "#si fanno le prediction del modello sul test set\n",
    "test_preds = ksvc.predict(ts_set)\n",
    "print(classification_report(ts_labels, test_preds, zero_division=0))"
   ]
  },
  {
   "cell_type": "code",
   "execution_count": null,
   "metadata": {},
   "outputs": [
    {
     "data": {
      "text/plain": [
       "<sklearn.metrics._plot.confusion_matrix.ConfusionMatrixDisplay at 0x26bf4ef7310>"
      ]
     },
     "execution_count": 19,
     "metadata": {},
     "output_type": "execute_result"
    },
    {
     "data": {
      "image/png": "[encoded data removed]",
      "text/plain": [
       "<Figure size 432x288 with 2 Axes>"
      ]
     },
     "metadata": {
      "needs_background": "light"
     },
     "output_type": "display_data"
    }
   ],
   "source": [
    "ConfusionMatrixDisplay.from_predictions(ts_labels, test_preds, cmap=\"YlGnBu\")"
   ]
  }
 ],
 "metadata": {
  "kernelspec": {
   "display_name": "Python 3",
   "language": "python",
   "name": "python3"
  },
  "language_info": {
   "codemirror_mode": {
    "name": "ipython",
    "version": 3
   },
   "file_extension": ".py",
   "mimetype": "text/x-python",
   "name": "python",
   "nbconvert_exporter": "python",
   "pygments_lexer": "ipython3",
   "version": "3.10.2"
  },
  "orig_nbformat": 4
 },
 "nbformat": 4,
 "nbformat_minor": 2
}
