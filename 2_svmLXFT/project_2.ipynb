{
 "cells": [
  {
   "attachments": {},
   "cell_type": "markdown",
   "metadata": {},
   "source": [
    "# 2. CLASSIFICATORE LINEARE SVM CON INPUT DI N-GRAMMI\n",
    "\n",
    "Classificatore basato su  SVM che prende in input una matrice di features basata su n-grammi di 3 tipi:\n",
    "1. Caratteri\n",
    "2. Token\n",
    "3. Part of Speech\n",
    "\n",
    "***"
   ]
  },
  {
   "attachments": {},
   "cell_type": "markdown",
   "metadata": {},
   "source": [
    "### Preprocessing dei dati\n",
    "\n",
    "Dobbiamo ottenere un vettore di features, basato sulle occorrenze di n-grammi all'interno delle frasi, per ciascun post. Come prima cosa si crea si per training che per test un set formato da liste di dizionari. I dizionari riportano per ogni token 3 campi che corrispondono alla parola, la forma lemmatizzata e la parte del discorso. Infine contiamo all'interno dei post le occorrenze degli n-grammi. Una volta ottenuti tutti gli n-grammi possiamo creare la matrice di occorrenze. "
   ]
  },
  {
   "cell_type": "code",
   "execution_count": 66,
   "metadata": {},
   "outputs": [],
   "source": [
    "import pandas as pd\n",
    "import os"
   ]
  },
  {
   "cell_type": "code",
   "execution_count": 67,
   "metadata": {},
   "outputs": [],
   "source": [
    "#creiamo un dizionario che abbia 3 campi: word, lemma e part of speech(pos)\n",
    "def create_set(type):\n",
    "    annotated_posts = []\n",
    "    for doc in os.listdir(\"../data/UD_annotation\"):\n",
    "        if type in doc: \n",
    "            doc_tokens = []\n",
    "            doc_path = \"../data/UD_annotation/\" + doc\n",
    "            for line in open(doc_path, \"r\", encoding=\"utf-8\"):\n",
    "                splitted = line.strip().split(\"\\t\")\n",
    "                if splitted[0].isdigit() and \"-\" not in splitted[0]:\n",
    "                    word=splitted[1]\n",
    "                    lemma=splitted[2]\n",
    "                    pos=splitted[3]\n",
    "                    new_token = {'word': word, 'lemma': lemma, 'pos': pos}\n",
    "                    doc_tokens.append(new_token)\n",
    "            annotated_posts.append(doc_tokens)\n",
    "    return annotated_posts\n",
    "\n",
    "annotation_tr = create_set(\"training\")\n",
    "annotation_ts = create_set(\"test\")\n"
   ]
  },
  {
   "cell_type": "code",
   "execution_count": 68,
   "metadata": {},
   "outputs": [],
   "source": [
    "#funzione che estrae le labels dal nome del file\n",
    "def create_labels(type):\n",
    "    labels_irony = []\n",
    "    labels_sarcasm = []\n",
    "    for doc in os.listdir(\"../data/UD_annotation\"):\n",
    "        if type in doc: \n",
    "            splitted = doc.split(\"#\")\n",
    "            irony = splitted[2]\n",
    "            sarcasm = splitted[3]\n",
    "            labels_irony.append(irony)\n",
    "            labels_sarcasm.append(sarcasm)\n",
    "    return labels_irony, labels_sarcasm\n",
    "        "
   ]
  },
  {
   "cell_type": "code",
   "execution_count": 69,
   "metadata": {},
   "outputs": [
    {
     "name": "stdout",
     "output_type": "stream",
     "text": [
      "Training: 3977\n",
      "Test: 872\n"
     ]
    }
   ],
   "source": [
    "#contiamo il numero di post(sample) per training e test\n",
    "print(f'Training: {len(annotation_tr)}')\n",
    "print(f'Test: {len(annotation_ts)}')"
   ]
  },
  {
   "cell_type": "code",
   "execution_count": 70,
   "metadata": {},
   "outputs": [
    {
     "name": "stdout",
     "output_type": "stream",
     "text": [
      "{'word_2_#la7_ma': 0.05555555555555555, 'word_2_ma_perche': 0.05555555555555555, \"word_2_perche_'\": 0.05555555555555555, \"word_2_'_Mario\": 0.05555555555555555, 'word_2_Mario_Monti': 0.05555555555555555, 'word_2_Monti_non': 0.05555555555555555, 'word_2_non_fa': 0.05555555555555555, 'word_2_fa_il': 0.05555555555555555, 'word_2_il_premier': 0.05555555555555555, 'word_2_premier_?': 0.05555555555555555, 'word_2_?_Che': 0.05555555555555555, 'word_2_Che_persona': 0.05555555555555555, 'word_2_persona_competente': 0.05555555555555555, 'word_2_competente_e': 0.05555555555555555, 'word_2_e_per': 0.05555555555555555, 'word_2_per_bene': 0.05555555555555555, 'word_2_bene_!': 0.05555555555555555}\n"
     ]
    }
   ],
   "source": [
    "#funzione che conta le occorrenze degli ngrammi all'interno di un post\n",
    "def count_ngrams(post, ft_type, n, char=False):\n",
    "    all_ngrams = {}\n",
    "    allwords = []\n",
    "    if not char:\n",
    "        for word in post:\n",
    "            allwords.append(word[ft_type])\n",
    "        post_length = len(allwords)\n",
    "    else:\n",
    "        for word in post:\n",
    "            allwords.append(word['word'])\n",
    "        allwords = \" \".join(allwords)\n",
    "        post_length = len(allwords)-1\n",
    "    for i in range(len(allwords)-(n-1)):\n",
    "        new_ngram = allwords[i:i+n]\n",
    "        if not char:\n",
    "            ngram_id = f'{ft_type}_{n}_'+'_'.join(new_ngram)\n",
    "        else:\n",
    "            ngram_id = f'char_{n}_'+'_'.join(new_ngram)\n",
    "        if ngram_id not in all_ngrams:\n",
    "            all_ngrams[ngram_id] = 1\n",
    "        else:\n",
    "            all_ngrams[ngram_id]+=1\n",
    "    #normalizzare in base alla post_length\n",
    "    for ngram in all_ngrams:\n",
    "        all_ngrams[ngram] = all_ngrams[ngram]/post_length\n",
    "    return all_ngrams\n",
    "\n",
    "print(count_ngrams(annotation_tr[2], \"word\", 2, False))\n",
    "\n"
   ]
  },
  {
   "attachments": {},
   "cell_type": "markdown",
   "metadata": {},
   "source": [
    "Uniamo per ogni tipo di informazione che vogliamo i relativi dizionari, così da avere un dizionario denso di informazioni. \n"
   ]
  },
  {
   "cell_type": "code",
   "execution_count": 71,
   "metadata": {},
   "outputs": [
    {
     "name": "stdout",
     "output_type": "stream",
     "text": [
      "{'word_1_Mario': 0.043478260869565216, 'word_1_Monti': 0.043478260869565216, 'word_1_:': 0.043478260869565216, \"word_1_c'\": 0.043478260869565216, 'word_1_è': 0.043478260869565216, 'word_1_il': 0.043478260869565216, 'word_1_rischio...': 0.043478260869565216, 'word_1_di': 0.08695652173913043, 'word_1_trasformare': 0.043478260869565216, \"word_1_l'\": 0.08695652173913043, 'word_1_Italia': 0.043478260869565216, 'word_1_da': 0.043478260869565216, 'word_1_Stato': 0.08695652173913043, 'word_1_fondatore': 0.043478260869565216, 'word_1_in': 0.043478260869565216, 'word_1_affondatore': 0.043478260869565216, 'word_1_Unione': 0.043478260869565216, 'word_1_europea': 0.043478260869565216, 'word_1_!': 0.043478260869565216, 'word_1_<URL>': 0.043478260869565216, 'word_2_Mario_Monti': 0.043478260869565216, 'word_2_Monti_:': 0.043478260869565216, \"word_2_:_c'\": 0.043478260869565216, \"word_2_c'_è\": 0.043478260869565216, 'word_2_è_il': 0.043478260869565216, 'word_2_il_rischio...': 0.043478260869565216, 'word_2_rischio..._di': 0.043478260869565216, 'word_2_di_trasformare': 0.043478260869565216, \"word_2_trasformare_l'\": 0.043478260869565216, \"word_2_l'_Italia\": 0.043478260869565216, 'word_2_Italia_da': 0.043478260869565216, 'word_2_da_Stato': 0.043478260869565216, 'word_2_Stato_fondatore': 0.043478260869565216, 'word_2_fondatore_in': 0.043478260869565216, 'word_2_in_Stato': 0.043478260869565216, 'word_2_Stato_affondatore': 0.043478260869565216, 'word_2_affondatore_di': 0.043478260869565216, \"word_2_di_l'\": 0.043478260869565216, \"word_2_l'_Unione\": 0.043478260869565216, 'word_2_Unione_europea': 0.043478260869565216, 'word_2_europea_!': 0.043478260869565216, 'word_2_!_<URL>': 0.043478260869565216, 'char_1_M': 0.016, 'char_1_a': 0.096, 'char_1_r': 0.064, 'char_1_i': 0.08, 'char_1_o': 0.096, 'char_1_ ': 0.176, 'char_1_n': 0.048, 'char_1_t': 0.072, 'char_1_:': 0.008, 'char_1_c': 0.016, \"char_1_'\": 0.024, 'char_1_è': 0.008, 'char_1_l': 0.032, 'char_1_s': 0.016, 'char_1_h': 0.008, 'char_1_.': 0.024, 'char_1_d': 0.04, 'char_1_f': 0.032, 'char_1_m': 0.008, 'char_1_e': 0.048, 'char_1_I': 0.008, 'char_1_S': 0.016, 'char_1_U': 0.016, 'char_1_u': 0.008, 'char_1_p': 0.008, 'char_1_!': 0.008, 'char_1_<': 0.008, 'char_1_R': 0.008, 'char_1_L': 0.008, 'char_1_>': 0.008, 'char_2_M_a': 0.008, 'char_2_a_r': 0.016, 'char_2_r_i': 0.016, 'char_2_i_o': 0.024, 'char_2_o_ ': 0.024, 'char_2_ _M': 0.008, 'char_2_M_o': 0.008, 'char_2_o_n': 0.032, 'char_2_n_t': 0.008, 'char_2_t_i': 0.008, 'char_2_i_ ': 0.024, 'char_2_ _:': 0.008, 'char_2_:_ ': 0.008, 'char_2_ _c': 0.008, \"char_2_c_'\": 0.008, \"char_2_'_ \": 0.024, 'char_2_ _è': 0.008, 'char_2_è_ ': 0.008, 'char_2_ _i': 0.016, 'char_2_i_l': 0.008, 'char_2_l_ ': 0.008, 'char_2_ _r': 0.008, 'char_2_i_s': 0.008, 'char_2_s_c': 0.008, 'char_2_c_h': 0.008, 'char_2_h_i': 0.008, 'char_2_o_.': 0.008, 'char_2_._.': 0.016, 'char_2_._ ': 0.008, 'char_2_ _d': 0.024, 'char_2_d_i': 0.016, 'char_2_ _t': 0.008, 'char_2_t_r': 0.008, 'char_2_r_a': 0.008, 'char_2_a_s': 0.008, 'char_2_s_f': 0.008, 'char_2_f_o': 0.024, 'char_2_o_r': 0.024, 'char_2_r_m': 0.008, 'char_2_m_a': 0.008, 'char_2_r_e': 0.024, 'char_2_e_ ': 0.032, 'char_2_ _l': 0.016, \"char_2_l_'\": 0.016, 'char_2_ _I': 0.008, 'char_2_I_t': 0.008, 'char_2_t_a': 0.024, 'char_2_a_l': 0.008, 'char_2_l_i': 0.008, 'char_2_i_a': 0.008, 'char_2_a_ ': 0.024, 'char_2_d_a': 0.024, 'char_2_ _S': 0.016, 'char_2_S_t': 0.016, 'char_2_a_t': 0.032, 'char_2_t_o': 0.032, 'char_2_ _f': 0.008, 'char_2_n_d': 0.016, 'char_2_i_n': 0.008, 'char_2_n_ ': 0.008, 'char_2_ _a': 0.008, 'char_2_a_f': 0.008, 'char_2_f_f': 0.008, 'char_2_ _U': 0.008, 'char_2_U_n': 0.008, 'char_2_n_i': 0.008, 'char_2_n_e': 0.008, 'char_2_ _e': 0.008, 'char_2_e_u': 0.008, 'char_2_u_r': 0.008, 'char_2_r_o': 0.008, 'char_2_o_p': 0.008, 'char_2_p_e': 0.008, 'char_2_e_a': 0.008, 'char_2_ _!': 0.008, 'char_2_!_ ': 0.008, 'char_2_ _<': 0.008, 'char_2_<_U': 0.008, 'char_2_U_R': 0.008, 'char_2_R_L': 0.008, 'char_2_L_>': 0.008}\n"
     ]
    }
   ],
   "source": [
    "#funzione che unisce per ogni post i diversi tipi di n-grammi\n",
    "def get_features(dataset, info_types):\n",
    "    all_features = []\n",
    "    for post in dataset: \n",
    "        complete_dict = dict()\n",
    "        for info in info_types:\n",
    "            info_dict = count_ngrams(post, info[0], info[1], info[2])\n",
    "            complete_dict = complete_dict | info_dict\n",
    "        all_features.append(complete_dict)\n",
    "    return all_features\n",
    "\n",
    "#per cambiare tipo di info cambiare questi parametri\n",
    "infos = [['word', 1, False], ['word', 2, False], ['word', 1, True], ['word', 2, True]]\n",
    "info_description = f'unigrammi parole; bigrammi parole; unigrammi caratteri; bigrammi caratteri;'\n",
    "\n",
    "tr_features = get_features(annotation_tr, infos)\n",
    "ts_features = get_features(annotation_ts, infos)\n",
    "\n",
    "print(tr_features[1])\n",
    "    \n",
    "        "
   ]
  },
  {
   "attachments": {},
   "cell_type": "markdown",
   "metadata": {},
   "source": [
    "Per ridurre la dimensionalità della nostra matrice, eliminiamo gli n-grammi che occorrono in un numero di documenti sotto una soglia."
   ]
  },
  {
   "cell_type": "code",
   "execution_count": 72,
   "metadata": {},
   "outputs": [],
   "source": [
    "#funzione che estrae la lista di feature presenti all'interno del dataset\n",
    "def get_feature_list(feature_set):\n",
    "    feature_list = []\n",
    "    for post in feature_set:\n",
    "        for feature in post:\n",
    "            if feature not in feature_list:\n",
    "                feature_list.append(feature)\n",
    "    return feature_list"
   ]
  },
  {
   "cell_type": "code",
   "execution_count": 73,
   "metadata": {},
   "outputs": [],
   "source": [
    "all_features = get_feature_list(tr_features)"
   ]
  },
  {
   "cell_type": "code",
   "execution_count": 74,
   "metadata": {},
   "outputs": [
    {
     "name": "stdout",
     "output_type": "stream",
     "text": [
      "Numero di features prima del filtro: 64468\n",
      "Numero di features dopo il filtro: 7534\n"
     ]
    }
   ],
   "source": [
    "#funzione che ritorna True se le occorrenze sono al di sopra di un valore soglia, e False altrimenti\n",
    "def is_common(feature, feature_set, min_occurrences):\n",
    "    count = 0\n",
    "    for post in feature_set:\n",
    "        if feature in post:\n",
    "            count += 1\n",
    "    if count < min_occurrences:\n",
    "        return False\n",
    "    else:\n",
    "        return True\n",
    "\n",
    "#passiamo la funzione is_common come parametro di filter, così facendo si ottiene una nuova lista di features con solo le features più comuni  \n",
    "filtered_features = list(filter(lambda x: is_common(x, tr_features, 3), all_features))\n",
    "print(f'Numero di features prima del filtro: {len(all_features)}')\n",
    "print(f'Numero di features dopo il filtro: {len(filtered_features)}')"
   ]
  },
  {
   "cell_type": "code",
   "execution_count": 75,
   "metadata": {},
   "outputs": [
    {
     "name": "stdout",
     "output_type": "stream",
     "text": [
      "Numero di features per sample non filtrato: 135\n",
      "Numero di features in un sample filtrato: 125\n"
     ]
    }
   ],
   "source": [
    "def filter_dataset(dataset, features_tokeep):\n",
    "    for post in dataset:\n",
    "        post_features = list(post.keys())\n",
    "        for feature in post_features:\n",
    "            if feature not in features_tokeep:\n",
    "                post.pop(feature)\n",
    "    return dataset\n",
    "\n",
    "\n",
    "print(f'Numero di features per sample non filtrato: {len(tr_features[10])}')\n",
    "tr_features = filter_dataset(tr_features, filtered_features)\n",
    "print(f'Numero di features in un sample filtrato: {len(tr_features[10])}')\n"
   ]
  },
  {
   "cell_type": "code",
   "execution_count": 76,
   "metadata": {},
   "outputs": [],
   "source": [
    "from sklearn.feature_extraction import DictVectorizer\n",
    "from sklearn.preprocessing import MaxAbsScaler\n",
    "from sklearn.svm import LinearSVC\n",
    "\n",
    "\n",
    "\n",
    "\n",
    "vectorizer = DictVectorizer()\n",
    "tr_set = vectorizer.fit_transform(tr_features)\n",
    "scaler = MaxAbsScaler()\n",
    "tr_set = scaler.fit_transform(tr_set)\n",
    "tr_labels_irony, tr_labels_sarcasm = create_labels(\"training\")\n"
   ]
  },
  {
   "attachments": {},
   "cell_type": "markdown",
   "metadata": {},
   "source": [
    "### Training"
   ]
  },
  {
   "cell_type": "code",
   "execution_count": 77,
   "metadata": {},
   "outputs": [
    {
     "data": {
      "text/html": [
       "<style>#sk-container-id-4 {color: black;background-color: white;}#sk-container-id-4 pre{padding: 0;}#sk-container-id-4 div.sk-toggleable {background-color: white;}#sk-container-id-4 label.sk-toggleable__label {cursor: pointer;display: block;width: 100%;margin-bottom: 0;padding: 0.3em;box-sizing: border-box;text-align: center;}#sk-container-id-4 label.sk-toggleable__label-arrow:before {content: \"▸\";float: left;margin-right: 0.25em;color: #696969;}#sk-container-id-4 label.sk-toggleable__label-arrow:hover:before {color: black;}#sk-container-id-4 div.sk-estimator:hover label.sk-toggleable__label-arrow:before {color: black;}#sk-container-id-4 div.sk-toggleable__content {max-height: 0;max-width: 0;overflow: hidden;text-align: left;background-color: #f0f8ff;}#sk-container-id-4 div.sk-toggleable__content pre {margin: 0.2em;color: black;border-radius: 0.25em;background-color: #f0f8ff;}#sk-container-id-4 input.sk-toggleable__control:checked~div.sk-toggleable__content {max-height: 200px;max-width: 100%;overflow: auto;}#sk-container-id-4 input.sk-toggleable__control:checked~label.sk-toggleable__label-arrow:before {content: \"▾\";}#sk-container-id-4 div.sk-estimator input.sk-toggleable__control:checked~label.sk-toggleable__label {background-color: #d4ebff;}#sk-container-id-4 div.sk-label input.sk-toggleable__control:checked~label.sk-toggleable__label {background-color: #d4ebff;}#sk-container-id-4 input.sk-hidden--visually {border: 0;clip: rect(1px 1px 1px 1px);clip: rect(1px, 1px, 1px, 1px);height: 1px;margin: -1px;overflow: hidden;padding: 0;position: absolute;width: 1px;}#sk-container-id-4 div.sk-estimator {font-family: monospace;background-color: #f0f8ff;border: 1px dotted black;border-radius: 0.25em;box-sizing: border-box;margin-bottom: 0.5em;}#sk-container-id-4 div.sk-estimator:hover {background-color: #d4ebff;}#sk-container-id-4 div.sk-parallel-item::after {content: \"\";width: 100%;border-bottom: 1px solid gray;flex-grow: 1;}#sk-container-id-4 div.sk-label:hover label.sk-toggleable__label {background-color: #d4ebff;}#sk-container-id-4 div.sk-serial::before {content: \"\";position: absolute;border-left: 1px solid gray;box-sizing: border-box;top: 0;bottom: 0;left: 50%;z-index: 0;}#sk-container-id-4 div.sk-serial {display: flex;flex-direction: column;align-items: center;background-color: white;padding-right: 0.2em;padding-left: 0.2em;position: relative;}#sk-container-id-4 div.sk-item {position: relative;z-index: 1;}#sk-container-id-4 div.sk-parallel {display: flex;align-items: stretch;justify-content: center;background-color: white;position: relative;}#sk-container-id-4 div.sk-item::before, #sk-container-id-4 div.sk-parallel-item::before {content: \"\";position: absolute;border-left: 1px solid gray;box-sizing: border-box;top: 0;bottom: 0;left: 50%;z-index: -1;}#sk-container-id-4 div.sk-parallel-item {display: flex;flex-direction: column;z-index: 1;position: relative;background-color: white;}#sk-container-id-4 div.sk-parallel-item:first-child::after {align-self: flex-end;width: 50%;}#sk-container-id-4 div.sk-parallel-item:last-child::after {align-self: flex-start;width: 50%;}#sk-container-id-4 div.sk-parallel-item:only-child::after {width: 0;}#sk-container-id-4 div.sk-dashed-wrapped {border: 1px dashed gray;margin: 0 0.4em 0.5em 0.4em;box-sizing: border-box;padding-bottom: 0.4em;background-color: white;}#sk-container-id-4 div.sk-label label {font-family: monospace;font-weight: bold;display: inline-block;line-height: 1.2em;}#sk-container-id-4 div.sk-label-container {text-align: center;}#sk-container-id-4 div.sk-container {/* jupyter's `normalize.less` sets `[hidden] { display: none; }` but bootstrap.min.css set `[hidden] { display: none !important; }` so we also need the `!important` here to be able to override the default hidden behavior on the sphinx rendered scikit-learn.org. See: https://github.com/scikit-learn/scikit-learn/issues/21755 */display: inline-block !important;position: relative;}#sk-container-id-4 div.sk-text-repr-fallback {display: none;}</style><div id=\"sk-container-id-4\" class=\"sk-top-container\"><div class=\"sk-text-repr-fallback\"><pre>LinearSVC(max_iter=10000)</pre><b>In a Jupyter environment, please rerun this cell to show the HTML representation or trust the notebook. <br />On GitHub, the HTML representation is unable to render, please try loading this page with nbviewer.org.</b></div><div class=\"sk-container\" hidden><div class=\"sk-item\"><div class=\"sk-estimator sk-toggleable\"><input class=\"sk-toggleable__control sk-hidden--visually\" id=\"sk-estimator-id-4\" type=\"checkbox\" checked><label for=\"sk-estimator-id-4\" class=\"sk-toggleable__label sk-toggleable__label-arrow\">LinearSVC</label><div class=\"sk-toggleable__content\"><pre>LinearSVC(max_iter=10000)</pre></div></div></div></div></div>"
      ],
      "text/plain": [
       "LinearSVC(max_iter=10000)"
      ]
     },
     "execution_count": 77,
     "metadata": {},
     "output_type": "execute_result"
    }
   ],
   "source": [
    "svc = LinearSVC(dual=True, max_iter=10000)\n",
    "svc.fit(tr_set, tr_labels_irony)\n"
   ]
  },
  {
   "attachments": {},
   "cell_type": "markdown",
   "metadata": {},
   "source": [
    "### Validation con diversi tipi di informazione"
   ]
  },
  {
   "cell_type": "code",
   "execution_count": 78,
   "metadata": {},
   "outputs": [],
   "source": [
    "from sklearn.metrics import accuracy_score\n",
    "from sklearn.model_selection import KFold\n",
    "from sklearn.dummy import DummyClassifier\n",
    "import numpy as np"
   ]
  },
  {
   "cell_type": "code",
   "execution_count": 79,
   "metadata": {},
   "outputs": [
    {
     "name": "stdout",
     "output_type": "stream",
     "text": [
      "-------------------------Fold n.1 just started!-------------------------\n",
      "---> test: \n",
      "Accuracy del modello: 0.6846733668341709\n",
      "Accuracy della baseline: 0.5062814070351759\n",
      "-------------------------Fold n.2 just started!-------------------------\n",
      "---> test: \n",
      "Accuracy del modello: 0.6959798994974874\n",
      "Accuracy della baseline: 0.45226130653266333\n",
      "-------------------------Fold n.3 just started!-------------------------\n",
      "---> test: \n",
      "Accuracy del modello: 0.6981132075471698\n",
      "Accuracy della baseline: 0.5031446540880503\n",
      "-------------------------Fold n.4 just started!-------------------------\n",
      "---> test: \n",
      "Accuracy del modello: 0.70062893081761\n",
      "Accuracy della baseline: 0.47924528301886793\n",
      "-------------------------Fold n.5 just started!-------------------------\n",
      "---> test: \n",
      "Accuracy del modello: 0.6918238993710691\n",
      "Accuracy della baseline: 0.5069182389937107\n"
     ]
    }
   ],
   "source": [
    "splitter = KFold(n_splits=5, random_state=42, shuffle=True)\n",
    "folds = list(splitter.split(tr_set))\n",
    "\n",
    "tr_labels = np.asarray(tr_labels_irony)\n",
    "i=1\n",
    "real_lbls = []\n",
    "predicted = []\n",
    "all_acc = []\n",
    "all_dummy_acc = []\n",
    "\n",
    "for fold in folds:\n",
    "    print(f'-------------------------Fold n.{i} just started!-------------------------')\n",
    "    #si creano i set per ogni fold, training e test\n",
    "    train_index = fold[0]\n",
    "    test_index = fold[1]\n",
    "    #train set\n",
    "    x_train = tr_set[train_index]\n",
    "    y_train = tr_labels[train_index]\n",
    "    #test set\n",
    "    x_test = tr_set[test_index]\n",
    "    y_test = tr_labels[test_index]\n",
    "    #inizio del training\n",
    "    ksvc = LinearSVC(dual=False)\n",
    "    ksvc.fit(x_train, y_train)\n",
    "    #predictions\n",
    "    pred = ksvc.predict(x_test)\n",
    "    acc = accuracy_score(y_test, pred)\n",
    "    #usiamo un Dummy Classifier come Baseline\n",
    "    dummy = DummyClassifier(strategy=\"most_frequent\")\n",
    "    dummy.fit(x_train, y_train)\n",
    "    dummy_acc = dummy.score(x_test, y_test)\n",
    "    real_lbls+=y_test.tolist()\n",
    "    predicted+=pred.tolist()\n",
    "    all_acc.append(acc)\n",
    "    all_dummy_acc.append(dummy_acc)\n",
    "    print(\"---> test: \")\n",
    "    print(f\"Accuracy del modello: {acc}\\nAccuracy della baseline: {dummy_acc}\")\n",
    "    i+=1\n",
    "\n",
    "\n",
    "def avg(x):\n",
    "    return sum(x)/len(x)\n",
    "\n",
    "'''\n",
    "with open('results.txt', 'a') as file:\n",
    "    file.write(f'{info_description}\\n')\n",
    "    for i in range(len(all_acc)):\n",
    "        file.write(f'Risultati Fold {i+1} -->  Accuracy modello: {all_acc[i]} | Accuracy baseline: {all_dummy_acc[i]}  \\n')\n",
    "    file.write(f'Media: {avg(all_acc)}')\n",
    "'''"
   ]
  },
  {
   "attachments": {},
   "cell_type": "markdown",
   "metadata": {},
   "source": [
    "### Test\n",
    "\n",
    "Una volta ottenuta la configurazione di input migliore (con accuratezza più alta), si procede a testare il modello con l'input che ha avuto le migliori prestazioni. In questo caso si tratta di unigrammi e bigrammi di caratteri e unigrammi e bigrammi di parole. "
   ]
  },
  {
   "cell_type": "code",
   "execution_count": 83,
   "metadata": {},
   "outputs": [],
   "source": [
    "from sklearn.metrics import classification_report\n",
    "from sklearn.metrics import ConfusionMatrixDisplay"
   ]
  },
  {
   "cell_type": "code",
   "execution_count": 81,
   "metadata": {},
   "outputs": [],
   "source": [
    "#ts_set = filter_dataset(ts_features, filtered_features)\n",
    "ts_set = vectorizer.transform(ts_features)\n",
    "ts_set = scaler.transform(ts_set)\n",
    "ts_labels_irony, ts_labels_sarcasm = create_labels(\"test\")\n",
    "ts_labels = ts_labels_irony\n"
   ]
  },
  {
   "cell_type": "code",
   "execution_count": 82,
   "metadata": {},
   "outputs": [
    {
     "name": "stdout",
     "output_type": "stream",
     "text": [
      "              precision    recall  f1-score   support\n",
      "\n",
      "           0       0.69      0.62      0.66       437\n",
      "           1       0.66      0.72      0.68       435\n",
      "\n",
      "    accuracy                           0.67       872\n",
      "   macro avg       0.67      0.67      0.67       872\n",
      "weighted avg       0.67      0.67      0.67       872\n",
      "\n"
     ]
    }
   ],
   "source": [
    "test_preds = svc.predict(ts_set)\n",
    "print(classification_report(ts_labels, test_preds, zero_division=0))"
   ]
  },
  {
   "cell_type": "code",
   "execution_count": 86,
   "metadata": {},
   "outputs": [
    {
     "data": {
      "text/plain": [
       "<sklearn.metrics._plot.confusion_matrix.ConfusionMatrixDisplay at 0x1778a3b9390>"
      ]
     },
     "execution_count": 86,
     "metadata": {},
     "output_type": "execute_result"
    },
    {
     "data": {
      "image/png": "[encoded data removed]",
      "text/plain": [
       "<Figure size 432x288 with 2 Axes>"
      ]
     },
     "metadata": {
      "needs_background": "light"
     },
     "output_type": "display_data"
    }
   ],
   "source": [
    "ConfusionMatrixDisplay.from_predictions(ts_labels, test_preds, cmap=\"YlGnBu\")"
   ]
  }
 ],
 "metadata": {
  "kernelspec": {
   "display_name": "Python 3",
   "language": "python",
   "name": "python3"
  },
  "language_info": {
   "codemirror_mode": {
    "name": "ipython",
    "version": 3
   },
   "file_extension": ".py",
   "mimetype": "text/x-python",
   "name": "python",
   "nbconvert_exporter": "python",
   "pygments_lexer": "ipython3",
   "version": "3.10.2"
  },
  "orig_nbformat": 4
 },
 "nbformat": 4,
 "nbformat_minor": 2
}
