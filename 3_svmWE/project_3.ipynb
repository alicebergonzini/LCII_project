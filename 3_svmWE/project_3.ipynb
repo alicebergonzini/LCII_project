{
 "cells": [
  {
   "attachments": {},
   "cell_type": "markdown",
   "metadata": {},
   "source": [
    "# CLASSIFICATORE SVM LINEARE CON INPUT DI WORD EMBEDDINGS\n",
    "\n",
    "Classificatore basato su svm lineare che prende in input i word embeddings di parole italiane, più specificamente dei word embedding sviluppati per EvalIta 2018 dall'Italian NLP Lab. \n",
    "\n",
    "***"
   ]
  },
  {
   "cell_type": "code",
   "execution_count": 19,
   "metadata": {},
   "outputs": [],
   "source": [
    "import numpy as np \n",
    "import re \n",
    "import os"
   ]
  },
  {
   "attachments": {},
   "cell_type": "markdown",
   "metadata": {},
   "source": [
    "### Caricamento Word Embeddings\n",
    "\n",
    "Il file txt dei word embedding è stato ottenuto attraverso l'elaborazione di un file sqlite. Per ogni riga (la quale rappresenta una parola) all'interno del file, si crea un record in un dizionario con chiave parola e come valore il vattore che rappresenta il word embedding."
   ]
  },
  {
   "cell_type": "code",
   "execution_count": 20,
   "metadata": {},
   "outputs": [],
   "source": [
    "#funzione per il caricamento degli embedding itwac\n",
    "def load_embeddings():\n",
    "    embeddings_dict = dict()\n",
    "    for line in open('../data/embeddings/itwac32.txt', encoding='utf-8'):\n",
    "        splitted = line.strip().split('\\t')\n",
    "        word = splitted[0]\n",
    "        embedding = splitted[1:]\n",
    "        embedding = [float(val) for val in embedding]\n",
    "        embeddings_dict[word] = np.asarray(embedding)\n",
    "    return embeddings_dict\n",
    "\n",
    "embeddings = load_embeddings()\n"
   ]
  },
  {
   "cell_type": "code",
   "execution_count": 21,
   "metadata": {},
   "outputs": [
    {
     "data": {
      "text/plain": [
       "array([-0.02069134,  0.09119736,  0.25785723, -0.23561105, -0.28197852,\n",
       "       -0.13193955, -0.13197723, -0.05229089, -0.28881341,  0.06564969,\n",
       "       -0.30802506,  0.11779311, -0.03571652, -0.08748714, -0.24729131,\n",
       "        0.2577146 ,  0.11925782, -0.27795964,  0.20498367,  0.08414506,\n",
       "        0.08175091, -0.05181665, -0.34403449, -0.05261306,  0.08858071,\n",
       "       -0.09748928,  0.12879393,  0.04387102, -0.04690454,  0.08181785,\n",
       "        0.321078  ,  0.01658573])"
      ]
     },
     "execution_count": 21,
     "metadata": {},
     "output_type": "execute_result"
    }
   ],
   "source": [
    "embeddings['amico']"
   ]
  },
  {
   "attachments": {},
   "cell_type": "markdown",
   "metadata": {},
   "source": [
    "### Normalizzazione del testo \n",
    "\n",
    "Le parole all'interno dei post devono essere normalizzate in questo modo:\n",
    "\n",
    "Numeri:\n",
    "- interi tra 0 e 2100 possono essere mantenuti così come sono\n",
    "- i numeri interi maggiori di 2100 diventano una stringa specifica con un numero che rappresenta il numero di cifre\n",
    "- se non si tratta di numeri interi, si convertono le cifre all'interno della stringa in questa sequenze @Dg\n",
    "\n",
    "Parole:\n",
    "- le parole che iniziano con una lettera maiuscola devono avere prima parola maiuscola e le altre minuscole\n",
    "- le parole che iniziano con una lettera minuscola devono avere tutti i caratteri minuscolo"
   ]
  },
  {
   "cell_type": "code",
   "execution_count": 22,
   "metadata": {},
   "outputs": [],
   "source": [
    "#funzione che trasforma le cifre all'interno di un token\n",
    "def digit_norm(word):\n",
    "    try:\n",
    "        val = int(word)\n",
    "    except:\n",
    "        normalized = re.sub('\\d', '@Dg', word)\n",
    "        return normalized\n",
    "    if val >= 0 and val<1200:\n",
    "        return str(val)\n",
    "    else:\n",
    "        return f'DIGLEN_{str(len(str(val)))}'\n",
    "\n",
    "#funzione che normalizza i token\n",
    "def normalize(word):\n",
    "    if \"http\" in word or (\".\" in word and \"/\" in word):\n",
    "        return str(\"___URL___\")\n",
    "    if len(word)>26:\n",
    "        return \"__LONG-LONG__\"\n",
    "    digits = digit_norm(word)\n",
    "    if digits != word:\n",
    "        word = digits\n",
    "    if word[0].isupper():\n",
    "        word = word.capitalize()\n",
    "    else:\n",
    "        word = word.lower()\n",
    "    return word\n",
    "\n"
   ]
  },
  {
   "cell_type": "code",
   "execution_count": 23,
   "metadata": {},
   "outputs": [
    {
     "name": "stdout",
     "output_type": "stream",
     "text": [
      "[{'word': 'Le', 'pos': 'DET'}, {'word': '5', 'pos': 'NUM'}, {'word': 'sgradevoli', 'pos': 'ADJ'}, {'word': 'realtà', 'pos': 'NOUN'}, {'word': 'di', 'pos': 'ADP'}, {'word': 'cui', 'pos': 'PRON'}, {'word': 'Berlusconi', 'pos': 'PROPN'}, {'word': 'dovrebbe', 'pos': 'AUX'}, {'word': 'rendersi', 'pos': 'VERB'}, {'word': 'personalmente', 'pos': 'ADV'}, {'word': 'conto', 'pos': 'NOUN'}, {'word': '<url>', 'pos': 'PROPN'}, {'word': 'Mario', 'pos': 'PROPN'}, {'word': 'Monti', 'pos': 'PROPN'}, {'word': 'non', 'pos': 'ADV'}, {'word': 'usa', 'pos': 'VERB'}, {'word': 'mezzi', 'pos': 'ADJ'}, {'word': 'termini', 'pos': 'NOUN'}]\n"
     ]
    }
   ],
   "source": [
    "#funzione che estrae dai file conllu i token e li normalizza\n",
    "def get_tokens(doc_path):\n",
    "    doc_tokens = []\n",
    "    skip_lines = 0\n",
    "    first = False\n",
    "    for line in open(doc_path, \"r\", encoding=\"utf-8\"):\n",
    "        splitted = line.strip().split(\"\\t\")\n",
    "        if line[0].isdigit():\n",
    "            if skip_lines == 0 and first == False:\n",
    "                if \"-\" not in splitted[0]:\n",
    "                    word = normalize(splitted[1])\n",
    "                    pos=splitted[3]\n",
    "                    token = {'word': word, 'pos': pos}\n",
    "                    doc_tokens.append(token)\n",
    "                else:\n",
    "                    word=normalize(splitted[1])\n",
    "                    skip_lines = len(splitted[0].split('-'))\n",
    "                    first = True\n",
    "            elif skip_lines != 0 and first == True:\n",
    "                pos = splitted[3]\n",
    "                token = {'word': word, 'pos': pos}\n",
    "                doc_tokens.append(token)\n",
    "                skip_lines-=1\n",
    "                first = False\n",
    "            else: \n",
    "                skip_lines-=1\n",
    "    return doc_tokens\n",
    "\n",
    "#funzione che crea il traingset o test set in base all'argomento specificato\n",
    "def create_set(type):\n",
    "    annotated_posts = []\n",
    "    for doc in os.listdir(\"../data/UD_annotation\"):\n",
    "        if type in doc: \n",
    "            doc_path = \"../data/UD_annotation/\" + doc    \n",
    "            doc_tokens = get_tokens(doc_path)\n",
    "            annotated_posts.append(doc_tokens)\n",
    "    return annotated_posts\n",
    "\n",
    "\n",
    "print(get_tokens(\"../data/UD_annotation/training#125642756147265536#0#0#TW-SENTIPOLC.conllu\"))\n",
    "\n",
    "training_set = create_set(\"training\")\n",
    "test_set = create_set(\"test\")"
   ]
  },
  {
   "cell_type": "code",
   "execution_count": 24,
   "metadata": {},
   "outputs": [
    {
     "data": {
      "text/plain": [
       "[{'word': '#la@dg', 'pos': 'NUM'},\n",
       " {'word': 'ma', 'pos': 'CCONJ'},\n",
       " {'word': 'perche', 'pos': 'ADV'},\n",
       " {'word': \"'\", 'pos': 'PUNCT'},\n",
       " {'word': 'Mario', 'pos': 'PROPN'},\n",
       " {'word': 'Monti', 'pos': 'PROPN'},\n",
       " {'word': 'non', 'pos': 'ADV'},\n",
       " {'word': 'fa', 'pos': 'VERB'},\n",
       " {'word': 'il', 'pos': 'DET'},\n",
       " {'word': 'premier', 'pos': 'NOUN'},\n",
       " {'word': '?', 'pos': 'PUNCT'},\n",
       " {'word': 'Che', 'pos': 'DET'},\n",
       " {'word': 'persona', 'pos': 'NOUN'},\n",
       " {'word': 'competente', 'pos': 'ADJ'},\n",
       " {'word': 'e', 'pos': 'CCONJ'},\n",
       " {'word': 'per', 'pos': 'ADP'},\n",
       " {'word': 'bene', 'pos': 'ADV'},\n",
       " {'word': '!', 'pos': 'PUNCT'}]"
      ]
     },
     "execution_count": 24,
     "metadata": {},
     "output_type": "execute_result"
    }
   ],
   "source": [
    "training_set[2]"
   ]
  },
  {
   "attachments": {},
   "cell_type": "markdown",
   "metadata": {},
   "source": [
    "### Pre-processing\n",
    "\n",
    "Per fare in modo di avere un vettore di features per ogni sample del nostro dataset, per ogni post vanno estratti gli embedding e aggregati secondo una delle seguenti strategie:\n",
    "- Somma \n",
    "- Media \n",
    "- Prodotto"
   ]
  },
  {
   "cell_type": "code",
   "execution_count": 45,
   "metadata": {},
   "outputs": [
    {
     "name": "stdout",
     "output_type": "stream",
     "text": [
      "[ 0.33562477 -0.05448548 -0.42705861  0.01437109  0.45159502  0.00348032\n",
      "  0.26449129  0.03243306 -0.08381133 -0.14544163 -0.05085387 -0.11924932\n",
      "  0.38293768 -0.0571368   0.44839092 -0.33565044  0.37418649  0.02131738\n",
      "  0.25892133 -0.28732456  0.60670963  0.151251   -0.54009455  0.04013886\n",
      "  0.04687114 -0.11289249 -0.48268102 -0.13149872 -0.32601021  0.02917017\n",
      " -0.17283661 -0.01268265 -0.03171508 -0.05594792 -0.13454684  0.43743487\n",
      "  0.52703507 -0.03730955  0.55663195 -0.18791406  0.14612699 -0.01575376\n",
      " -0.11765517 -0.19878786  0.44469127  0.07014844  0.11291848 -0.49556313\n",
      " -0.13480377  0.41072911 -0.35959498 -0.41556786  0.53653162  0.25484272\n",
      " -0.73539679  0.2500334  -0.03019049 -0.71849942  0.12890437 -0.08805762\n",
      " -0.34093672 -0.46701554 -0.36786842 -0.03138301  0.43814081 -0.10103156\n",
      " -0.19417439  0.13527741 -0.19628561 -0.04956499  0.22108051 -0.14000706\n",
      " -0.08482647  0.04375442  0.08646346 -0.00164628  0.11506289  0.08473135\n",
      " -0.06659641  0.10320415  0.23755038 -0.05376894  0.33137974 -0.27062881\n",
      " -0.07256045  0.08457013 -0.08995622 -0.12816061  0.32735649 -0.04310134\n",
      "  0.07824811  0.15233405  0.06438236 -0.14330558  0.15729892  0.33642733]\n"
     ]
    }
   ],
   "source": [
    "#funzione che restituisce gli embedding all'interno di un post e infine li aggrega secondo la strategia definita\n",
    "def get_post_embeddings(post, aggr, consider_pos=[]):\n",
    "    post_emb = []\n",
    "    for token in post:\n",
    "        word = token['word']\n",
    "        pos = token['pos']\n",
    "        if consider_pos == []: \n",
    "            if word in embeddings:\n",
    "                single_embedding = embeddings[word]\n",
    "                post_emb.append(single_embedding)\n",
    "        else:\n",
    "            if word in embeddings and pos in consider_pos:\n",
    "                single_embedding = embeddings[word]\n",
    "                post_emb.append(single_embedding)\n",
    "    print(len(post_emb))\n",
    "    if len(post_emb)==0:\n",
    "        post_emb = [np.zeros(32)]\n",
    "    if aggr==\"sum\":\n",
    "        return post_embeddings_sum(post_emb)\n",
    "    if aggr==\"mean\":\n",
    "        return post_embeddings_mean(post_emb)\n",
    "    if aggr==\"prod\":\n",
    "        return post_embeddings_prod(post_emb)\n",
    "\n",
    "#funzione che estrae gli embeddings e li aggrega separatamente per part of speech; infine i tre array vengono concatenati\n",
    "def get_post_embeddings_sep(post, aggr, pos_to_consider):\n",
    "    all_embs = []\n",
    "    for pos in pos_to_consider:\n",
    "        pos_embs = []\n",
    "        for token in post:\n",
    "            word = token['word'] \n",
    "            if token['pos'] == pos and word in embeddings:\n",
    "                pos_embs.append(embeddings[word])\n",
    "        if len(pos_embs) == 0:\n",
    "            pos_embs = [np.zeros(32)]\n",
    "        if aggr==\"sum\":   \n",
    "            pos_aggr = post_embeddings_sum(pos_embs)\n",
    "        if aggr==\"mean\":\n",
    "            pos_aggr = post_embeddings_mean(pos_embs)\n",
    "        if aggr==\"prod\":\n",
    "            pos_aggr == post_embeddings_prod(pos_embs)\n",
    "        all_embs.append(pos_aggr)\n",
    "    all_pos_embs = np.concatenate(all_embs)\n",
    "    return all_pos_embs\n",
    "\n",
    "def post_embeddings_sum(post_emb):\n",
    "    return np.sum(post_emb, axis=0)\n",
    "\n",
    "def post_embeddings_mean(post_emb):\n",
    "    embeddings_sum = post_embeddings_sum(post_emb)\n",
    "    return np.divide(embeddings_sum, len(post_emb))\n",
    "\n",
    "def post_embeddings_prod(post_emb):\n",
    "    return np.prod(post_emb, axis=0)\n",
    "\n",
    "sample = get_post_embeddings_sep(training_set[0], \"sum\", ['ADJ', 'NOUN', 'VERB'])\n",
    "print(sample)\n",
    "\n",
    "#print(f'Media: {post_embeddings_mean(sample)}')\n",
    "#print(f'Somma: {post_embeddings_sum(sample)}')\n",
    "#print(f'Prodotto: {post_embeddings_prod(sample)}')"
   ]
  },
  {
   "cell_type": "code",
   "execution_count": null,
   "metadata": {},
   "outputs": [],
   "source": []
  }
 ],
 "metadata": {
  "kernelspec": {
   "display_name": "Python 3",
   "language": "python",
   "name": "python3"
  },
  "language_info": {
   "codemirror_mode": {
    "name": "ipython",
    "version": 3
   },
   "file_extension": ".py",
   "mimetype": "text/x-python",
   "name": "python",
   "nbconvert_exporter": "python",
   "pygments_lexer": "ipython3",
   "version": "3.10.2"
  },
  "orig_nbformat": 4
 },
 "nbformat": 4,
 "nbformat_minor": 2
}
